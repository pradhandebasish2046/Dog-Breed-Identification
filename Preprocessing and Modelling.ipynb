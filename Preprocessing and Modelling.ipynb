{
 "cells": [
  {
   "cell_type": "code",
   "execution_count": null,
   "metadata": {
    "id": "VLFBkqG_SdAN"
   },
   "outputs": [],
   "source": [
    "%matplotlib inline\n",
    "%load_ext tensorboard\n",
    "import warnings\n",
    "warnings.filterwarnings(\"ignore\")\n",
    "\n",
    "import numpy as np\n",
    "import pandas as pd\n",
    "import matplotlib.pyplot as plt\n",
    "import os\n",
    "from tqdm import tqdm\n",
    "\n",
    "import tensorflow as tf\n",
    "from tensorflow.keras.layers import Conv2D,Dense,Input,BatchNormalization,Flatten,MaxPooling2D,Activation,Dropout,concatenate,Softmax\n",
    "from tensorflow.keras.models import Model,Sequential \n",
    "from tensorflow.keras.callbacks import TensorBoard,ModelCheckpoint,EarlyStopping,ReduceLROnPlateau\n",
    "from keras.preprocessing.image import ImageDataGenerator\n",
    "from tensorflow.keras.layers import GlobalAveragePooling2D, Concatenate"
   ]
  },
  {
   "cell_type": "code",
   "execution_count": null,
   "metadata": {
    "colab": {
     "base_uri": "https://localhost:8080/"
    },
    "id": "CPZBqLcwTGDt",
    "outputId": "d8ff3ce4-9b09-4fe5-990e-af46b07b5005"
   },
   "outputs": [
    {
     "name": "stdout",
     "output_type": "stream",
     "text": [
      "Mounted at /content/drive\n"
     ]
    }
   ],
   "source": [
    "from google.colab import drive\n",
    "drive.mount('/content/drive')"
   ]
  },
  {
   "cell_type": "code",
   "execution_count": null,
   "metadata": {
    "id": "AGtceZz1TIKb"
   },
   "outputs": [],
   "source": [
    "#!unzip /content/drive/MyDrive/Assignment/dog-breed-identification.zip"
   ]
  },
  {
   "cell_type": "code",
   "execution_count": null,
   "metadata": {
    "id": "6sGZ4gqyTik1"
   },
   "outputs": [],
   "source": [
    "\"\"\"\n",
    "function ConnectButton(){\n",
    "    console.log(\"Connect pushed\"); \n",
    "    document.querySelector(\"#top-toolbar > colab-connect-button\").shadowRoot.querySelector(\"#connect\").click() \n",
    "}\n",
    "\n",
    "var colab = setInterval(ConnectButton,60000);\n",
    "\"\"\""
   ]
  },
  {
   "cell_type": "code",
   "execution_count": null,
   "metadata": {
    "colab": {
     "base_uri": "https://localhost:8080/",
     "height": 206
    },
    "id": "2jaHBlbeTlE8",
    "outputId": "26ce4218-c1c2-4124-ca81-3b1134d669d9"
   },
   "outputs": [
    {
     "data": {
      "text/html": [
       "\n",
       "  <div id=\"df-ef5f19c8-543c-4a11-8936-1d2ae361fb3f\">\n",
       "    <div class=\"colab-df-container\">\n",
       "      <div>\n",
       "<style scoped>\n",
       "    .dataframe tbody tr th:only-of-type {\n",
       "        vertical-align: middle;\n",
       "    }\n",
       "\n",
       "    .dataframe tbody tr th {\n",
       "        vertical-align: top;\n",
       "    }\n",
       "\n",
       "    .dataframe thead th {\n",
       "        text-align: right;\n",
       "    }\n",
       "</style>\n",
       "<table border=\"1\" class=\"dataframe\">\n",
       "  <thead>\n",
       "    <tr style=\"text-align: right;\">\n",
       "      <th></th>\n",
       "      <th>id</th>\n",
       "      <th>breed</th>\n",
       "      <th>path</th>\n",
       "    </tr>\n",
       "  </thead>\n",
       "  <tbody>\n",
       "    <tr>\n",
       "      <th>0</th>\n",
       "      <td>000bec180eb18c7604dcecc8fe0dba07</td>\n",
       "      <td>boston_bull</td>\n",
       "      <td>000bec180eb18c7604dcecc8fe0dba07.jpg</td>\n",
       "    </tr>\n",
       "    <tr>\n",
       "      <th>1</th>\n",
       "      <td>001513dfcb2ffafc82cccf4d8bbaba97</td>\n",
       "      <td>dingo</td>\n",
       "      <td>001513dfcb2ffafc82cccf4d8bbaba97.jpg</td>\n",
       "    </tr>\n",
       "    <tr>\n",
       "      <th>2</th>\n",
       "      <td>001cdf01b096e06d78e9e5112d419397</td>\n",
       "      <td>pekinese</td>\n",
       "      <td>001cdf01b096e06d78e9e5112d419397.jpg</td>\n",
       "    </tr>\n",
       "    <tr>\n",
       "      <th>3</th>\n",
       "      <td>00214f311d5d2247d5dfe4fe24b2303d</td>\n",
       "      <td>bluetick</td>\n",
       "      <td>00214f311d5d2247d5dfe4fe24b2303d.jpg</td>\n",
       "    </tr>\n",
       "    <tr>\n",
       "      <th>4</th>\n",
       "      <td>0021f9ceb3235effd7fcde7f7538ed62</td>\n",
       "      <td>golden_retriever</td>\n",
       "      <td>0021f9ceb3235effd7fcde7f7538ed62.jpg</td>\n",
       "    </tr>\n",
       "  </tbody>\n",
       "</table>\n",
       "</div>\n",
       "      <button class=\"colab-df-convert\" onclick=\"convertToInteractive('df-ef5f19c8-543c-4a11-8936-1d2ae361fb3f')\"\n",
       "              title=\"Convert this dataframe to an interactive table.\"\n",
       "              style=\"display:none;\">\n",
       "        \n",
       "  <svg xmlns=\"http://www.w3.org/2000/svg\" height=\"24px\"viewBox=\"0 0 24 24\"\n",
       "       width=\"24px\">\n",
       "    <path d=\"M0 0h24v24H0V0z\" fill=\"none\"/>\n",
       "    <path d=\"M18.56 5.44l.94 2.06.94-2.06 2.06-.94-2.06-.94-.94-2.06-.94 2.06-2.06.94zm-11 1L8.5 8.5l.94-2.06 2.06-.94-2.06-.94L8.5 2.5l-.94 2.06-2.06.94zm10 10l.94 2.06.94-2.06 2.06-.94-2.06-.94-.94-2.06-.94 2.06-2.06.94z\"/><path d=\"M17.41 7.96l-1.37-1.37c-.4-.4-.92-.59-1.43-.59-.52 0-1.04.2-1.43.59L10.3 9.45l-7.72 7.72c-.78.78-.78 2.05 0 2.83L4 21.41c.39.39.9.59 1.41.59.51 0 1.02-.2 1.41-.59l7.78-7.78 2.81-2.81c.8-.78.8-2.07 0-2.86zM5.41 20L4 18.59l7.72-7.72 1.47 1.35L5.41 20z\"/>\n",
       "  </svg>\n",
       "      </button>\n",
       "      \n",
       "  <style>\n",
       "    .colab-df-container {\n",
       "      display:flex;\n",
       "      flex-wrap:wrap;\n",
       "      gap: 12px;\n",
       "    }\n",
       "\n",
       "    .colab-df-convert {\n",
       "      background-color: #E8F0FE;\n",
       "      border: none;\n",
       "      border-radius: 50%;\n",
       "      cursor: pointer;\n",
       "      display: none;\n",
       "      fill: #1967D2;\n",
       "      height: 32px;\n",
       "      padding: 0 0 0 0;\n",
       "      width: 32px;\n",
       "    }\n",
       "\n",
       "    .colab-df-convert:hover {\n",
       "      background-color: #E2EBFA;\n",
       "      box-shadow: 0px 1px 2px rgba(60, 64, 67, 0.3), 0px 1px 3px 1px rgba(60, 64, 67, 0.15);\n",
       "      fill: #174EA6;\n",
       "    }\n",
       "\n",
       "    [theme=dark] .colab-df-convert {\n",
       "      background-color: #3B4455;\n",
       "      fill: #D2E3FC;\n",
       "    }\n",
       "\n",
       "    [theme=dark] .colab-df-convert:hover {\n",
       "      background-color: #434B5C;\n",
       "      box-shadow: 0px 1px 3px 1px rgba(0, 0, 0, 0.15);\n",
       "      filter: drop-shadow(0px 1px 2px rgba(0, 0, 0, 0.3));\n",
       "      fill: #FFFFFF;\n",
       "    }\n",
       "  </style>\n",
       "\n",
       "      <script>\n",
       "        const buttonEl =\n",
       "          document.querySelector('#df-ef5f19c8-543c-4a11-8936-1d2ae361fb3f button.colab-df-convert');\n",
       "        buttonEl.style.display =\n",
       "          google.colab.kernel.accessAllowed ? 'block' : 'none';\n",
       "\n",
       "        async function convertToInteractive(key) {\n",
       "          const element = document.querySelector('#df-ef5f19c8-543c-4a11-8936-1d2ae361fb3f');\n",
       "          const dataTable =\n",
       "            await google.colab.kernel.invokeFunction('convertToInteractive',\n",
       "                                                     [key], {});\n",
       "          if (!dataTable) return;\n",
       "\n",
       "          const docLinkHtml = 'Like what you see? Visit the ' +\n",
       "            '<a target=\"_blank\" href=https://colab.research.google.com/notebooks/data_table.ipynb>data table notebook</a>'\n",
       "            + ' to learn more about interactive tables.';\n",
       "          element.innerHTML = '';\n",
       "          dataTable['output_type'] = 'display_data';\n",
       "          await google.colab.output.renderOutput(dataTable, element);\n",
       "          const docLink = document.createElement('div');\n",
       "          docLink.innerHTML = docLinkHtml;\n",
       "          element.appendChild(docLink);\n",
       "        }\n",
       "      </script>\n",
       "    </div>\n",
       "  </div>\n",
       "  "
      ],
      "text/plain": [
       "                                 id             breed  \\\n",
       "0  000bec180eb18c7604dcecc8fe0dba07       boston_bull   \n",
       "1  001513dfcb2ffafc82cccf4d8bbaba97             dingo   \n",
       "2  001cdf01b096e06d78e9e5112d419397          pekinese   \n",
       "3  00214f311d5d2247d5dfe4fe24b2303d          bluetick   \n",
       "4  0021f9ceb3235effd7fcde7f7538ed62  golden_retriever   \n",
       "\n",
       "                                   path  \n",
       "0  000bec180eb18c7604dcecc8fe0dba07.jpg  \n",
       "1  001513dfcb2ffafc82cccf4d8bbaba97.jpg  \n",
       "2  001cdf01b096e06d78e9e5112d419397.jpg  \n",
       "3  00214f311d5d2247d5dfe4fe24b2303d.jpg  \n",
       "4  0021f9ceb3235effd7fcde7f7538ed62.jpg  "
      ]
     },
     "execution_count": 5,
     "metadata": {},
     "output_type": "execute_result"
    }
   ],
   "source": [
    "data = pd.read_csv(\"labels.csv\")\n",
    "data['path'] = data['id'].values+'.jpg'\n",
    "data.head()"
   ]
  },
  {
   "cell_type": "code",
   "execution_count": null,
   "metadata": {
    "id": "F6YA68wck7dj"
   },
   "outputs": [],
   "source": [
    "def plot_performance_metric(history):\n",
    "  # Plot training & validation iou_score values\n",
    "  plt.figure(figsize=(30, 5))\n",
    "  plt.subplot(121)\n",
    "  plt.plot(history['accuracy'])\n",
    "  plt.plot(history['val_accuracy'])\n",
    "  plt.title('Model Accuracy')\n",
    "  plt.ylabel('Accuracy')\n",
    "  plt.xlabel('Epoch')\n",
    "  plt.legend(['Train', 'Test'], loc='upper left')\n",
    "\n",
    "  # Plot training & validation loss values\n",
    "  plt.subplot(122)\n",
    "  plt.plot(history['loss'])\n",
    "  plt.plot(history['val_loss'])\n",
    "  plt.title('Model loss')\n",
    "  plt.ylabel('Loss')\n",
    "  plt.xlabel('Epoch')\n",
    "  plt.legend(['Train', 'Test'], loc='upper left')\n",
    "  plt.show()"
   ]
  },
  {
   "cell_type": "code",
   "execution_count": null,
   "metadata": {
    "id": "bkreADpJlL1R"
   },
   "outputs": [],
   "source": [
    "def finutune(model):\n",
    "  x = Conv2D(256,(3,3),activation='relu',padding=\"valid\")(model.output)\n",
    "  x = Dropout(0.5)(x)\n",
    "\n",
    "  x = tf.keras.layers.BatchNormalization()(x)\n",
    "\n",
    "  x = Conv2D(128,(3,3),activation='relu',padding=\"valid\")(x)\n",
    "  x = Dropout(0.5)(x)\n",
    "\n",
    "  x = tf.keras.layers.BatchNormalization()(x)\n",
    "\n",
    "  x = Conv2D(64,(3,3),activation='relu',padding=\"valid\")(x)\n",
    "  x = Dropout(0.5)(x)\n",
    "\n",
    "  fc1 = Dense(128, activation='relu')(x)\n",
    "  fc2 = Dense(64, activation='relu')(fc1)\n",
    "  flatten = Flatten()(fc2)\n",
    "          \n",
    "  output = Dense(120, activation='softmax')(flatten)\n",
    "\n",
    "  model = Model(inputs = model.input,outputs = output)\n",
    "  return model"
   ]
  },
  {
   "cell_type": "markdown",
   "metadata": {
    "id": "_bDZ_bEX1b4A"
   },
   "source": [
    "#Inception Resnet V2"
   ]
  },
  {
   "cell_type": "code",
   "execution_count": null,
   "metadata": {
    "id": "x4BHbu9DTwb-"
   },
   "outputs": [],
   "source": [
    "datagen = ImageDataGenerator(\n",
    "        rescale=1/255.,\n",
    "        shear_range=0.2,\n",
    "        zoom_range=0.2,\n",
    "        horizontal_flip=True,\n",
    "        fill_mode='nearest',\n",
    "        rotation_range=30,\n",
    "        brightness_range=[0.4,1.5],\n",
    "        validation_split=0.1)"
   ]
  },
  {
   "cell_type": "code",
   "execution_count": null,
   "metadata": {
    "colab": {
     "base_uri": "https://localhost:8080/"
    },
    "id": "1UVB6d9wT3v7",
    "outputId": "e3047fcc-a18e-4bc9-8903-a13cf8360621"
   },
   "outputs": [
    {
     "name": "stdout",
     "output_type": "stream",
     "text": [
      "Found 9200 validated image filenames belonging to 120 classes.\n"
     ]
    }
   ],
   "source": [
    "train_generator = datagen.flow_from_dataframe(\n",
    "dataframe=data,\n",
    "directory=\"train/\",\n",
    "x_col=\"path\",\n",
    "y_col=\"breed\",\n",
    "subset=\"training\",\n",
    "batch_size=128,\n",
    "shuffle=True,\n",
    "class_mode=\"categorical\",\n",
    "target_size=(331, 331),\n",
    "color_mode='rgb',\n",
    "seed=42)"
   ]
  },
  {
   "cell_type": "code",
   "execution_count": null,
   "metadata": {
    "colab": {
     "base_uri": "https://localhost:8080/"
    },
    "id": "5susPQzCT8Tv",
    "outputId": "0e448301-fe82-409a-e423-47d3f5d5ec6d"
   },
   "outputs": [
    {
     "name": "stdout",
     "output_type": "stream",
     "text": [
      "Found 1022 validated image filenames belonging to 120 classes.\n"
     ]
    }
   ],
   "source": [
    "valid_generator=datagen.flow_from_dataframe(\n",
    "dataframe=data,\n",
    "directory=\"train/\",\n",
    "x_col=\"path\",\n",
    "y_col=\"breed\",\n",
    "subset=\"validation\",\n",
    "batch_size=128,\n",
    "shuffle=True,\n",
    "class_mode=\"categorical\",\n",
    "target_size=(331, 331),\n",
    "color_mode='rgb',\n",
    "seed=42)"
   ]
  },
  {
   "cell_type": "code",
   "execution_count": null,
   "metadata": {
    "colab": {
     "base_uri": "https://localhost:8080/"
    },
    "id": "pBmf1GqpTne8",
    "outputId": "66c90136-c32e-4208-a5dc-91533d92006b"
   },
   "outputs": [
    {
     "name": "stdout",
     "output_type": "stream",
     "text": [
      "Downloading data from https://storage.googleapis.com/tensorflow/keras-applications/inception_resnet_v2/inception_resnet_v2_weights_tf_dim_ordering_tf_kernels_notop.h5\n",
      "219062272/219055592 [==============================] - 1s 0us/step\n",
      "219070464/219055592 [==============================] - 1s 0us/step\n"
     ]
    }
   ],
   "source": [
    "inception_resnet_v2 = tf.keras.applications.inception_resnet_v2.InceptionResNetV2(weights='imagenet', include_top=False, input_shape=(512, 512,3))\n",
    "inception_resnet_v2.trainable = False"
   ]
  },
  {
   "cell_type": "code",
   "execution_count": null,
   "metadata": {
    "id": "DIpESyiJlRr8"
   },
   "outputs": [],
   "source": [
    "model_inception_resnet_v2 = finutune(inception_resnet_v2)"
   ]
  },
  {
   "cell_type": "code",
   "execution_count": null,
   "metadata": {
    "id": "6SJnjhL-UH8Q"
   },
   "outputs": [],
   "source": [
    "earlystopping = tf.keras.callbacks.EarlyStopping(monitor='val_accuracy', patience=5,mode='max')\n",
    "reduce_lr = tf.keras.callbacks.ReduceLROnPlateau(monitor='val_accuracy', min_lr=0.0000001,patience=2)"
   ]
  },
  {
   "cell_type": "code",
   "execution_count": null,
   "metadata": {
    "id": "7jid1_56USz5"
   },
   "outputs": [],
   "source": [
    "root_dir = '/content/drive/MyDrive/self_case_study/'\n",
    "from keras.callbacks import CSVLogger\n",
    "\n",
    "csv_logger = CSVLogger(root_dir+\"model_inception_resnet_v2_history_log.csv\", append=True,separator=\",\")"
   ]
  },
  {
   "cell_type": "code",
   "execution_count": null,
   "metadata": {
    "id": "bhC-gqVOUp4e"
   },
   "outputs": [],
   "source": [
    "checkpoint = ModelCheckpoint(root_dir+'model_inception_resnet_v2_weights.h5', save_weights_only=True, save_best_only=True, \\\n",
    "                                       mode='max', monitor='val_accuracy')"
   ]
  },
  {
   "cell_type": "code",
   "execution_count": null,
   "metadata": {
    "id": "IByw0MvDVBRN"
   },
   "outputs": [],
   "source": [
    "import datetime\n",
    "log_dir = os.path.join(\"logs\",'fits', datetime.datetime.now().strftime(\"%Y%m%d-%H%M%S\"))\n",
    "tensorboard_callback = tf.keras.callbacks.TensorBoard(log_dir=log_dir,histogram_freq=1,write_graph=True)"
   ]
  },
  {
   "cell_type": "code",
   "execution_count": null,
   "metadata": {
    "id": "MRmL1tXZVMyu"
   },
   "outputs": [],
   "source": [
    "'''x = Conv2D(128,(3,3),activation='relu',padding=\"valid\")(inception_resnet_v2.output)\n",
    "x = Dropout(0.5)(x)\n",
    "\n",
    "fc1 = Dense(128, activation='relu')(x)\n",
    "fc2 = Dense(64, activation='relu')(fc1)\n",
    "flatten = Flatten()(fc2)\n",
    "        \n",
    "output = Dense(120, activation='softmax')(flatten)\n",
    "\n",
    "model_inception_resnet_v2 = Model(inputs = inception_resnet_v2.input,outputs = output)'''"
   ]
  },
  {
   "cell_type": "code",
   "execution_count": null,
   "metadata": {
    "id": "tUaTjZx5VS1Q"
   },
   "outputs": [],
   "source": [
    "adam = tf.keras.optimizers.Adam(learning_rate=0.0001)\n",
    "model_inception_resnet_v2.compile(optimizer=adam, loss='categorical_crossentropy', metrics=['accuracy'])"
   ]
  },
  {
   "cell_type": "code",
   "execution_count": null,
   "metadata": {
    "colab": {
     "base_uri": "https://localhost:8080/"
    },
    "id": "UVbXoUYxkzmg",
    "outputId": "dd05dcf5-d672-446a-f97f-5a1ac068aeb1"
   },
   "outputs": [
    {
     "name": "stdout",
     "output_type": "stream",
     "text": [
      "Epoch 1/50\n",
      "287/287 [==============================] - 719s 2s/step - loss: 4.7959 - accuracy: 0.0220 - val_loss: 4.4019 - val_accuracy: 0.1764 - lr: 1.0000e-04\n",
      "Epoch 2/50\n",
      "287/287 [==============================] - 685s 2s/step - loss: 3.5885 - accuracy: 0.1901 - val_loss: 1.9721 - val_accuracy: 0.5091 - lr: 1.0000e-04\n",
      "Epoch 3/50\n",
      "287/287 [==============================] - 664s 2s/step - loss: 1.5865 - accuracy: 0.5657 - val_loss: 0.9006 - val_accuracy: 0.7429 - lr: 1.0000e-04\n",
      "Epoch 4/50\n",
      "287/287 [==============================] - 682s 2s/step - loss: 0.9826 - accuracy: 0.7236 - val_loss: 0.6717 - val_accuracy: 0.8105 - lr: 1.0000e-04\n",
      "Epoch 5/50\n",
      "287/287 [==============================] - 694s 2s/step - loss: 0.7614 - accuracy: 0.7827 - val_loss: 0.6808 - val_accuracy: 0.8175 - lr: 1.0000e-04\n",
      "Epoch 6/50\n",
      "287/287 [==============================] - 688s 2s/step - loss: 0.6879 - accuracy: 0.8050 - val_loss: 0.6588 - val_accuracy: 0.8296 - lr: 1.0000e-04\n",
      "Epoch 7/50\n",
      "287/287 [==============================] - 670s 2s/step - loss: 0.6279 - accuracy: 0.8232 - val_loss: 0.6288 - val_accuracy: 0.8458 - lr: 1.0000e-04\n",
      "Epoch 8/50\n",
      "287/287 [==============================] - 687s 2s/step - loss: 0.5755 - accuracy: 0.8380 - val_loss: 0.6064 - val_accuracy: 0.8478 - lr: 1.0000e-04\n",
      "Epoch 9/50\n",
      "287/287 [==============================] - 667s 2s/step - loss: 0.5445 - accuracy: 0.8471 - val_loss: 0.6591 - val_accuracy: 0.8417 - lr: 1.0000e-04\n",
      "Epoch 10/50\n",
      "287/287 [==============================] - 685s 2s/step - loss: 0.5327 - accuracy: 0.8488 - val_loss: 0.6777 - val_accuracy: 0.8438 - lr: 1.0000e-04\n",
      "Epoch 11/50\n",
      "287/287 [==============================] - 696s 2s/step - loss: 0.4487 - accuracy: 0.8713 - val_loss: 0.5017 - val_accuracy: 0.8669 - lr: 1.0000e-05\n",
      "Epoch 12/50\n",
      "287/287 [==============================] - 689s 2s/step - loss: 0.4065 - accuracy: 0.8811 - val_loss: 0.5776 - val_accuracy: 0.8569 - lr: 1.0000e-05\n",
      "Epoch 13/50\n",
      "287/287 [==============================] - 679s 2s/step - loss: 0.4086 - accuracy: 0.8821 - val_loss: 0.5381 - val_accuracy: 0.8679 - lr: 1.0000e-05\n",
      "Epoch 14/50\n",
      "287/287 [==============================] - 690s 2s/step - loss: 0.4001 - accuracy: 0.8820 - val_loss: 0.5191 - val_accuracy: 0.8548 - lr: 1.0000e-05\n",
      "Epoch 15/50\n",
      "287/287 [==============================] - 691s 2s/step - loss: 0.3952 - accuracy: 0.8830 - val_loss: 0.5074 - val_accuracy: 0.8720 - lr: 1.0000e-05\n",
      "Epoch 16/50\n",
      "287/287 [==============================] - 672s 2s/step - loss: 0.3932 - accuracy: 0.8812 - val_loss: 0.5287 - val_accuracy: 0.8659 - lr: 1.0000e-05\n",
      "Epoch 17/50\n",
      "287/287 [==============================] - 689s 2s/step - loss: 0.3779 - accuracy: 0.8908 - val_loss: 0.5213 - val_accuracy: 0.8710 - lr: 1.0000e-05\n",
      "Epoch 18/50\n",
      "287/287 [==============================] - 692s 2s/step - loss: 0.3776 - accuracy: 0.8889 - val_loss: 0.4892 - val_accuracy: 0.8750 - lr: 1.0000e-06\n",
      "Epoch 19/50\n",
      "287/287 [==============================] - 674s 2s/step - loss: 0.3671 - accuracy: 0.8922 - val_loss: 0.5087 - val_accuracy: 0.8538 - lr: 1.0000e-06\n",
      "Epoch 20/50\n",
      "287/287 [==============================] - 676s 2s/step - loss: 0.3789 - accuracy: 0.8892 - val_loss: 0.5203 - val_accuracy: 0.8700 - lr: 1.0000e-06\n",
      "Epoch 21/50\n",
      "287/287 [==============================] - 675s 2s/step - loss: 0.3622 - accuracy: 0.8915 - val_loss: 0.5149 - val_accuracy: 0.8679 - lr: 1.0000e-07\n",
      "Epoch 22/50\n",
      "287/287 [==============================] - 678s 2s/step - loss: 0.3699 - accuracy: 0.8885 - val_loss: 0.5425 - val_accuracy: 0.8679 - lr: 1.0000e-07\n",
      "Epoch 23/50\n",
      "287/287 [==============================] - 689s 2s/step - loss: 0.3833 - accuracy: 0.8850 - val_loss: 0.5626 - val_accuracy: 0.8508 - lr: 1.0000e-07\n"
     ]
    }
   ],
   "source": [
    "STEP_SIZE_TRAIN=train_generator.n//train_generator.batch_size\n",
    "STEP_SIZE_VALID=valid_generator.n//valid_generator.batch_size\n",
    "\n",
    "history = model_inception_resnet_v2.fit(train_generator,\n",
    "                      steps_per_epoch=STEP_SIZE_TRAIN,\n",
    "                      validation_data=valid_generator,\n",
    "                      validation_steps=STEP_SIZE_VALID,\n",
    "                      epochs=50,\n",
    "                      callbacks=[checkpoint, earlystopping, tensorboard_callback, csv_logger, reduce_lr])"
   ]
  },
  {
   "cell_type": "code",
   "execution_count": null,
   "metadata": {
    "id": "m31SRs4S05o_"
   },
   "outputs": [],
   "source": [
    "history = pd.read_csv(root_dir+\"model_inception_resnet_v2_history_log.csv\")"
   ]
  },
  {
   "cell_type": "code",
   "execution_count": null,
   "metadata": {
    "colab": {
     "base_uri": "https://localhost:8080/",
     "height": 370
    },
    "id": "_xjXxnHHYsy6",
    "outputId": "6f729f67-0cea-4f7f-8de3-5bde7faf3fc0"
   },
   "outputs": [
    {
     "data": {
      "image/png": "[encoded data removed]",
      "text/plain": [
       "<Figure size 2160x360 with 2 Axes>"
      ]
     },
     "metadata": {
      "needs_background": "light"
     },
     "output_type": "display_data"
    }
   ],
   "source": [
    "plot_performance_metric(history)"
   ]
  },
  {
   "cell_type": "markdown",
   "metadata": {
    "id": "1RDyUh9E1lyg"
   },
   "source": [
    "#Nasnet Large"
   ]
  },
  {
   "cell_type": "code",
   "execution_count": null,
   "metadata": {
    "id": "lbxE-8k-2T-R"
   },
   "outputs": [],
   "source": [
    "nasnet = tf.keras.applications.NASNetLarge(include_top=False,weights=\"imagenet\",input_shape=(331, 331, 3))\n",
    "nasnet.trainable = False"
   ]
  },
  {
   "cell_type": "code",
   "execution_count": null,
   "metadata": {
    "id": "6SKOLQ0C2rxl"
   },
   "outputs": [],
   "source": [
    "model_nasnet = finutune(nasnet)"
   ]
  },
  {
   "cell_type": "code",
   "execution_count": null,
   "metadata": {
    "id": "M9n1f9qy3GEI"
   },
   "outputs": [],
   "source": [
    "earlystopping = tf.keras.callbacks.EarlyStopping(monitor='val_accuracy', patience=5,mode='max')\n",
    "reduce_lr = tf.keras.callbacks.ReduceLROnPlateau(monitor='val_accuracy', min_lr=0.0000001,patience=2)\n",
    "\n",
    "root_dir = '/content/drive/MyDrive/self_case_study/'\n",
    "from keras.callbacks import CSVLogger\n",
    "\n",
    "csv_logger = CSVLogger(root_dir+\"model_nasnet_history_log.csv\", append=True,separator=\",\")\n",
    "\n",
    "checkpoint = ModelCheckpoint(root_dir+'model_nasnet_weights.h5', save_weights_only=True, save_best_only=True, \\\n",
    "                                       mode='max', monitor='val_accuracy')"
   ]
  },
  {
   "cell_type": "code",
   "execution_count": null,
   "metadata": {
    "id": "FoH8FqIZ3smz"
   },
   "outputs": [],
   "source": [
    "adam = tf.keras.optimizers.Adam(learning_rate=0.0001)\n",
    "model_nasnet.compile(optimizer=adam, loss='categorical_crossentropy', metrics=['accuracy'])"
   ]
  },
  {
   "cell_type": "code",
   "execution_count": null,
   "metadata": {
    "colab": {
     "base_uri": "https://localhost:8080/"
    },
    "id": "AlEbFtXA3GQI",
    "outputId": "572f94ec-4f46-44e5-e431-ccef56b9adc4"
   },
   "outputs": [
    {
     "name": "stdout",
     "output_type": "stream",
     "text": [
      "Epoch 1/50\n",
      "287/287 [==============================] - 400s 1s/step - loss: 4.6272 - accuracy: 0.0395 - val_loss: 3.8983 - val_accuracy: 0.4022 - lr: 1.0000e-04\n",
      "Epoch 2/50\n",
      "287/287 [==============================] - 383s 1s/step - loss: 3.1702 - accuracy: 0.2974 - val_loss: 1.5318 - val_accuracy: 0.7167 - lr: 1.0000e-04\n",
      "Epoch 3/50\n",
      "287/287 [==============================] - 378s 1s/step - loss: 1.3518 - accuracy: 0.6747 - val_loss: 0.7570 - val_accuracy: 0.8276 - lr: 1.0000e-04\n",
      "Epoch 4/50\n",
      "287/287 [==============================] - 385s 1s/step - loss: 0.8544 - accuracy: 0.7898 - val_loss: 0.6146 - val_accuracy: 0.8558 - lr: 1.0000e-04\n",
      "Epoch 5/50\n",
      "287/287 [==============================] - 378s 1s/step - loss: 0.6916 - accuracy: 0.8255 - val_loss: 0.5926 - val_accuracy: 0.8669 - lr: 1.0000e-04\n",
      "Epoch 6/50\n",
      "287/287 [==============================] - 370s 1s/step - loss: 0.6115 - accuracy: 0.8447 - val_loss: 0.5781 - val_accuracy: 0.8639 - lr: 1.0000e-04\n",
      "Epoch 7/50\n",
      "287/287 [==============================] - 371s 1s/step - loss: 0.5421 - accuracy: 0.8608 - val_loss: 0.5365 - val_accuracy: 0.8720 - lr: 1.0000e-04\n",
      "Epoch 8/50\n",
      "287/287 [==============================] - 377s 1s/step - loss: 0.5003 - accuracy: 0.8693 - val_loss: 0.5045 - val_accuracy: 0.8730 - lr: 1.0000e-04\n",
      "Epoch 9/50\n",
      "287/287 [==============================] - 369s 1s/step - loss: 0.4458 - accuracy: 0.8755 - val_loss: 0.5638 - val_accuracy: 0.8700 - lr: 1.0000e-04\n",
      "Epoch 10/50\n",
      "287/287 [==============================] - 377s 1s/step - loss: 0.4069 - accuracy: 0.8894 - val_loss: 0.5316 - val_accuracy: 0.8770 - lr: 1.0000e-04\n",
      "Epoch 11/50\n",
      "287/287 [==============================] - 369s 1s/step - loss: 0.4086 - accuracy: 0.8917 - val_loss: 0.5601 - val_accuracy: 0.8629 - lr: 1.0000e-04\n",
      "Epoch 12/50\n",
      "287/287 [==============================] - 369s 1s/step - loss: 0.3977 - accuracy: 0.8909 - val_loss: 0.5028 - val_accuracy: 0.8700 - lr: 1.0000e-04\n",
      "Epoch 13/50\n",
      "287/287 [==============================] - 370s 1s/step - loss: 0.3199 - accuracy: 0.9101 - val_loss: 0.5349 - val_accuracy: 0.8740 - lr: 1.0000e-05\n",
      "Epoch 14/50\n",
      "287/287 [==============================] - 370s 1s/step - loss: 0.2967 - accuracy: 0.9159 - val_loss: 0.4913 - val_accuracy: 0.8800 - lr: 1.0000e-05\n",
      "Epoch 15/50\n",
      "287/287 [==============================] - 368s 1s/step - loss: 0.2914 - accuracy: 0.9149 - val_loss: 0.5471 - val_accuracy: 0.8780 - lr: 1.0000e-05\n",
      "Epoch 16/50\n",
      "287/287 [==============================] - 368s 1s/step - loss: 0.2798 - accuracy: 0.9188 - val_loss: 0.5100 - val_accuracy: 0.8780 - lr: 1.0000e-05\n",
      "Epoch 17/50\n",
      "287/287 [==============================] - 369s 1s/step - loss: 0.2642 - accuracy: 0.9227 - val_loss: 0.5189 - val_accuracy: 0.8770 - lr: 1.0000e-06\n",
      "Epoch 18/50\n",
      "287/287 [==============================] - 369s 1s/step - loss: 0.2734 - accuracy: 0.9211 - val_loss: 0.5608 - val_accuracy: 0.8750 - lr: 1.0000e-06\n",
      "Epoch 19/50\n",
      "287/287 [==============================] - 377s 1s/step - loss: 0.2792 - accuracy: 0.9194 - val_loss: 0.4881 - val_accuracy: 0.8851 - lr: 1.0000e-07\n",
      "Epoch 20/50\n",
      "287/287 [==============================] - 379s 1s/step - loss: 0.2546 - accuracy: 0.9231 - val_loss: 0.4659 - val_accuracy: 0.8881 - lr: 1.0000e-07\n",
      "Epoch 21/50\n",
      "287/287 [==============================] - 365s 1s/step - loss: 0.2666 - accuracy: 0.9217 - val_loss: 0.5475 - val_accuracy: 0.8639 - lr: 1.0000e-07\n",
      "Epoch 22/50\n",
      "287/287 [==============================] - 369s 1s/step - loss: 0.2527 - accuracy: 0.9287 - val_loss: 0.5289 - val_accuracy: 0.8831 - lr: 1.0000e-07\n",
      "Epoch 23/50\n",
      "287/287 [==============================] - 370s 1s/step - loss: 0.2696 - accuracy: 0.9214 - val_loss: 0.4983 - val_accuracy: 0.8770 - lr: 1.0000e-07\n",
      "Epoch 24/50\n",
      "287/287 [==============================] - 369s 1s/step - loss: 0.2719 - accuracy: 0.9204 - val_loss: 0.5352 - val_accuracy: 0.8730 - lr: 1.0000e-07\n",
      "Epoch 25/50\n",
      "287/287 [==============================] - 370s 1s/step - loss: 0.2484 - accuracy: 0.9275 - val_loss: 0.5413 - val_accuracy: 0.8700 - lr: 1.0000e-07\n"
     ]
    }
   ],
   "source": [
    "STEP_SIZE_TRAIN=train_generator.n//train_generator.batch_size\n",
    "STEP_SIZE_VALID=valid_generator.n//valid_generator.batch_size\n",
    "\n",
    "history = model_nasnet.fit(train_generator,\n",
    "                      steps_per_epoch=STEP_SIZE_TRAIN,\n",
    "                      validation_data=valid_generator,\n",
    "                      validation_steps=STEP_SIZE_VALID,\n",
    "                      epochs=50,\n",
    "                      callbacks=[checkpoint, earlystopping, csv_logger, reduce_lr])"
   ]
  },
  {
   "cell_type": "code",
   "execution_count": null,
   "metadata": {
    "id": "qiaKAPbMgCOO"
   },
   "outputs": [],
   "source": [
    "history = pd.read_csv(root_dir+\"model_nasnet_history_log.csv\")"
   ]
  },
  {
   "cell_type": "code",
   "execution_count": null,
   "metadata": {
    "colab": {
     "base_uri": "https://localhost:8080/",
     "height": 370
    },
    "id": "egcJOpexfdHn",
    "outputId": "0d9eb2f1-9b63-46fe-d3fe-f3fc1c53e2bb"
   },
   "outputs": [
    {
     "data": {
      "image/png": "[encoded data removed]",
      "text/plain": [
       "<Figure size 2160x360 with 2 Axes>"
      ]
     },
     "metadata": {
      "needs_background": "light"
     },
     "output_type": "display_data"
    }
   ],
   "source": [
    "plot_performance_metric(history)"
   ]
  },
  {
   "cell_type": "markdown",
   "metadata": {
    "id": "qCYp5pRppB5D"
   },
   "source": [
    "#model InceptionV3"
   ]
  },
  {
   "cell_type": "code",
   "execution_count": null,
   "metadata": {
    "colab": {
     "base_uri": "https://localhost:8080/"
    },
    "id": "tvPkohzcoRsS",
    "outputId": "47037c04-b435-4a97-8b1e-a42c5cd186d8"
   },
   "outputs": [
    {
     "name": "stdout",
     "output_type": "stream",
     "text": [
      "Downloading data from https://storage.googleapis.com/tensorflow/keras-applications/inception_v3/inception_v3_weights_tf_dim_ordering_tf_kernels_notop.h5\n",
      "87916544/87910968 [==============================] - 0s 0us/step\n",
      "87924736/87910968 [==============================] - 0s 0us/step\n"
     ]
    }
   ],
   "source": [
    "model_InceptionV3 = tf.keras.applications.inception_v3.InceptionV3(weights='imagenet', include_top=False, input_shape=(512, 512,3))\n",
    "model_InceptionV3.trainable = False"
   ]
  },
  {
   "cell_type": "code",
   "execution_count": null,
   "metadata": {
    "id": "93mNrR2QpUvh"
   },
   "outputs": [],
   "source": [
    "model_InceptionV3 = finutune(model_InceptionV3)"
   ]
  },
  {
   "cell_type": "code",
   "execution_count": null,
   "metadata": {
    "id": "9lx6bxpFpEcz"
   },
   "outputs": [],
   "source": [
    "earlystopping = tf.keras.callbacks.EarlyStopping(monitor='val_accuracy', patience=5,mode='max')\n",
    "reduce_lr = tf.keras.callbacks.ReduceLROnPlateau(monitor='val_accuracy', min_lr=0.0000001,patience=2)\n",
    "\n",
    "root_dir = '/content/drive/MyDrive/self_case_study/'\n",
    "from keras.callbacks import CSVLogger\n",
    "\n",
    "csv_logger = CSVLogger(root_dir+\"model_InceptionV3_history_log.csv\", append=True,separator=\",\")\n",
    "\n",
    "checkpoint = ModelCheckpoint(root_dir+'model_InceptionV3_weights.h5', save_weights_only=True, save_best_only=True, \\\n",
    "                                       mode='max', monitor='val_accuracy')"
   ]
  },
  {
   "cell_type": "code",
   "execution_count": null,
   "metadata": {
    "id": "OPzihI91peg8"
   },
   "outputs": [],
   "source": [
    "adam = tf.keras.optimizers.Adam(learning_rate=0.0001)\n",
    "model_InceptionV3.compile(optimizer=adam, loss='categorical_crossentropy', metrics=['accuracy'])"
   ]
  },
  {
   "cell_type": "code",
   "execution_count": null,
   "metadata": {
    "colab": {
     "base_uri": "https://localhost:8080/"
    },
    "id": "HfAxgmFupepX",
    "outputId": "a7770064-34b4-4d0b-f7b7-f0001c82132c"
   },
   "outputs": [
    {
     "name": "stdout",
     "output_type": "stream",
     "text": [
      "Epoch 1/50\n",
      "287/287 [==============================] - 671s 2s/step - loss: 4.8543 - accuracy: 0.0142 - val_loss: 4.6396 - val_accuracy: 0.0857 - lr: 1.0000e-04\n",
      "Epoch 2/50\n",
      "287/287 [==============================] - 662s 2s/step - loss: 4.2466 - accuracy: 0.0781 - val_loss: 3.2271 - val_accuracy: 0.2127 - lr: 1.0000e-04\n",
      "Epoch 3/50\n",
      "287/287 [==============================] - 685s 2s/step - loss: 2.6719 - accuracy: 0.2852 - val_loss: 1.8040 - val_accuracy: 0.4647 - lr: 1.0000e-04\n",
      "Epoch 4/50\n",
      "287/287 [==============================] - 679s 2s/step - loss: 1.7534 - accuracy: 0.4835 - val_loss: 1.3529 - val_accuracy: 0.5655 - lr: 1.0000e-04\n",
      "Epoch 5/50\n",
      "287/287 [==============================] - 666s 2s/step - loss: 1.3512 - accuracy: 0.5969 - val_loss: 1.1300 - val_accuracy: 0.6683 - lr: 1.0000e-04\n",
      "Epoch 6/50\n",
      "287/287 [==============================] - 652s 2s/step - loss: 1.1023 - accuracy: 0.6650 - val_loss: 1.0047 - val_accuracy: 0.7167 - lr: 1.0000e-04\n",
      "Epoch 7/50\n",
      "287/287 [==============================] - 652s 2s/step - loss: 0.9775 - accuracy: 0.7023 - val_loss: 0.9199 - val_accuracy: 0.7268 - lr: 1.0000e-04\n",
      "Epoch 8/50\n",
      "287/287 [==============================] - 651s 2s/step - loss: 0.8847 - accuracy: 0.7345 - val_loss: 0.8271 - val_accuracy: 0.7631 - lr: 1.0000e-04\n",
      "Epoch 9/50\n",
      "287/287 [==============================] - 657s 2s/step - loss: 0.7997 - accuracy: 0.7555 - val_loss: 0.8113 - val_accuracy: 0.7692 - lr: 1.0000e-04\n",
      "Epoch 10/50\n",
      "287/287 [==============================] - 670s 2s/step - loss: 0.7604 - accuracy: 0.7680 - val_loss: 0.8765 - val_accuracy: 0.7641 - lr: 1.0000e-04\n",
      "Epoch 11/50\n",
      "287/287 [==============================] - 664s 2s/step - loss: 0.7048 - accuracy: 0.7830 - val_loss: 0.7404 - val_accuracy: 0.7954 - lr: 1.0000e-04\n",
      "Epoch 12/50\n",
      "287/287 [==============================] - 657s 2s/step - loss: 0.6636 - accuracy: 0.7943 - val_loss: 0.8520 - val_accuracy: 0.7540 - lr: 1.0000e-04\n",
      "Epoch 13/50\n",
      "287/287 [==============================] - 650s 2s/step - loss: 0.6350 - accuracy: 0.8054 - val_loss: 0.7755 - val_accuracy: 0.7994 - lr: 1.0000e-04\n",
      "Epoch 14/50\n",
      "287/287 [==============================] - 658s 2s/step - loss: 0.5851 - accuracy: 0.8207 - val_loss: 0.8056 - val_accuracy: 0.7823 - lr: 1.0000e-04\n",
      "Epoch 15/50\n",
      "287/287 [==============================] - 662s 2s/step - loss: 0.5757 - accuracy: 0.8253 - val_loss: 0.7867 - val_accuracy: 0.7933 - lr: 1.0000e-04\n",
      "Epoch 16/50\n",
      "287/287 [==============================] - 664s 2s/step - loss: 0.5039 - accuracy: 0.8459 - val_loss: 0.7431 - val_accuracy: 0.8115 - lr: 1.0000e-05\n",
      "Epoch 17/50\n",
      "287/287 [==============================] - 658s 2s/step - loss: 0.4564 - accuracy: 0.8594 - val_loss: 0.7159 - val_accuracy: 0.8085 - lr: 1.0000e-05\n",
      "Epoch 18/50\n",
      "287/287 [==============================] - 658s 2s/step - loss: 0.4413 - accuracy: 0.8653 - val_loss: 0.7679 - val_accuracy: 0.8185 - lr: 1.0000e-05\n",
      "Epoch 19/50\n",
      "287/287 [==============================] - 657s 2s/step - loss: 0.4508 - accuracy: 0.8632 - val_loss: 0.6545 - val_accuracy: 0.8286 - lr: 1.0000e-05\n",
      "Epoch 20/50\n",
      "287/287 [==============================] - 681s 2s/step - loss: 0.4266 - accuracy: 0.8686 - val_loss: 0.6933 - val_accuracy: 0.8397 - lr: 1.0000e-05\n",
      "Epoch 21/50\n",
      "287/287 [==============================] - 671s 2s/step - loss: 0.4214 - accuracy: 0.8688 - val_loss: 0.7094 - val_accuracy: 0.8216 - lr: 1.0000e-05\n",
      "Epoch 22/50\n",
      "287/287 [==============================] - 664s 2s/step - loss: 0.4188 - accuracy: 0.8715 - val_loss: 0.7254 - val_accuracy: 0.8085 - lr: 1.0000e-05\n",
      "Epoch 23/50\n",
      "287/287 [==============================] - 660s 2s/step - loss: 0.4145 - accuracy: 0.8705 - val_loss: 0.6874 - val_accuracy: 0.8145 - lr: 1.0000e-06\n",
      "Epoch 24/50\n",
      "287/287 [==============================] - 677s 2s/step - loss: 0.4202 - accuracy: 0.8663 - val_loss: 0.6808 - val_accuracy: 0.8206 - lr: 1.0000e-06\n",
      "Epoch 25/50\n",
      "287/287 [==============================] - 679s 2s/step - loss: 0.3952 - accuracy: 0.8739 - val_loss: 0.6826 - val_accuracy: 0.8155 - lr: 1.0000e-07\n"
     ]
    }
   ],
   "source": [
    "STEP_SIZE_TRAIN=train_generator.n//train_generator.batch_size\n",
    "STEP_SIZE_VALID=valid_generator.n//valid_generator.batch_size\n",
    "\n",
    "history = model_InceptionV3.fit(train_generator,\n",
    "                      steps_per_epoch=STEP_SIZE_TRAIN,\n",
    "                      validation_data=valid_generator,\n",
    "                      validation_steps=STEP_SIZE_VALID,\n",
    "                      epochs=50,\n",
    "                      callbacks=[checkpoint, earlystopping, csv_logger, reduce_lr])"
   ]
  },
  {
   "cell_type": "code",
   "execution_count": null,
   "metadata": {
    "id": "rhkbb2e6jjTS"
   },
   "outputs": [],
   "source": [
    "root_dir = '/content/drive/MyDrive/self_case_study/'\n",
    "history = pd.read_csv(root_dir+\"model_InceptionV3_history_log.csv\")"
   ]
  },
  {
   "cell_type": "code",
   "execution_count": null,
   "metadata": {
    "colab": {
     "base_uri": "https://localhost:8080/",
     "height": 152
    },
    "id": "9HjB2iZfjtjn",
    "outputId": "628f8ac8-ce32-47be-fe12-d957fb7a89dc"
   },
   "outputs": [
    {
     "data": {
      "image/png": "[encoded data removed]",
      "text/plain": [
       "<Figure size 2160x360 with 2 Axes>"
      ]
     },
     "metadata": {
      "needs_background": "light"
     },
     "output_type": "display_data"
    }
   ],
   "source": [
    "plot_performance_metric(history)"
   ]
  },
  {
   "cell_type": "markdown",
   "metadata": {
    "id": "N4YhMsvKlB08"
   },
   "source": [
    "#Model Xception"
   ]
  },
  {
   "cell_type": "code",
   "execution_count": null,
   "metadata": {
    "colab": {
     "base_uri": "https://localhost:8080/"
    },
    "id": "jL_3xgLPk_1M",
    "outputId": "a750c854-3d5b-466c-b1eb-43125b9ef395"
   },
   "outputs": [
    {
     "name": "stdout",
     "output_type": "stream",
     "text": [
      "Downloading data from https://storage.googleapis.com/tensorflow/keras-applications/xception/xception_weights_tf_dim_ordering_tf_kernels_notop.h5\n",
      "83689472/83683744 [==============================] - 1s 0us/step\n",
      "83697664/83683744 [==============================] - 1s 0us/step\n"
     ]
    }
   ],
   "source": [
    "model_Xception = tf.keras.applications.xception.Xception(weights='imagenet', include_top=False, input_shape=(512, 512,3))\n",
    "model_Xception.trainable = False"
   ]
  },
  {
   "cell_type": "code",
   "execution_count": null,
   "metadata": {
    "id": "KtUc-cUwlAeE"
   },
   "outputs": [],
   "source": [
    "model_Xception = finutune(model_Xception)"
   ]
  },
  {
   "cell_type": "code",
   "execution_count": null,
   "metadata": {
    "id": "lQGRFkuTmj82"
   },
   "outputs": [],
   "source": [
    "earlystopping = tf.keras.callbacks.EarlyStopping(monitor='val_accuracy', patience=5,mode='max')\n",
    "reduce_lr = tf.keras.callbacks.ReduceLROnPlateau(monitor='val_accuracy', min_lr=0.0000001,patience=2)\n",
    "\n",
    "root_dir = '/content/drive/MyDrive/self_case_study/'\n",
    "from keras.callbacks import CSVLogger\n",
    "\n",
    "csv_logger = CSVLogger(root_dir+\"model_Xception_history_log.csv\", append=True,separator=\",\")\n",
    "\n",
    "checkpoint = ModelCheckpoint(root_dir+'model_Xception_weights.h5', save_weights_only=True, save_best_only=True, \\\n",
    "                                       mode='max', monitor='val_accuracy')"
   ]
  },
  {
   "cell_type": "code",
   "execution_count": null,
   "metadata": {
    "id": "ZmobH8xsmkIv"
   },
   "outputs": [],
   "source": [
    "adam = tf.keras.optimizers.Adam(learning_rate=0.0001)\n",
    "model_Xception.compile(optimizer=adam, loss='categorical_crossentropy', metrics=['accuracy'])"
   ]
  },
  {
   "cell_type": "code",
   "execution_count": null,
   "metadata": {
    "colab": {
     "base_uri": "https://localhost:8080/"
    },
    "id": "LlFG78Ywmkd8",
    "outputId": "0af82f6b-9c05-4132-d2a4-ce37f5975a2e"
   },
   "outputs": [
    {
     "name": "stdout",
     "output_type": "stream",
     "text": [
      "Epoch 1/50\n",
      "287/287 [==============================] - 725s 2s/step - loss: 4.7734 - accuracy: 0.0251 - val_loss: 4.1330 - val_accuracy: 0.1371 - lr: 1.0000e-04\n",
      "Epoch 2/50\n",
      "287/287 [==============================] - 693s 2s/step - loss: 3.2429 - accuracy: 0.2148 - val_loss: 1.9003 - val_accuracy: 0.4536 - lr: 1.0000e-04\n",
      "Epoch 3/50\n",
      "287/287 [==============================] - 696s 2s/step - loss: 1.7075 - accuracy: 0.4999 - val_loss: 1.1331 - val_accuracy: 0.6593 - lr: 1.0000e-04\n",
      "Epoch 4/50\n",
      "287/287 [==============================] - 726s 3s/step - loss: 1.1656 - accuracy: 0.6523 - val_loss: 0.9132 - val_accuracy: 0.7298 - lr: 1.0000e-04\n",
      "Epoch 5/50\n",
      "287/287 [==============================] - 718s 3s/step - loss: 0.9435 - accuracy: 0.7211 - val_loss: 0.8872 - val_accuracy: 0.7530 - lr: 1.0000e-04\n",
      "Epoch 6/50\n",
      "287/287 [==============================] - 691s 2s/step - loss: 0.8330 - accuracy: 0.7511 - val_loss: 0.8269 - val_accuracy: 0.7550 - lr: 1.0000e-04\n",
      "Epoch 7/50\n",
      "287/287 [==============================] - 689s 2s/step - loss: 0.7291 - accuracy: 0.7820 - val_loss: 0.8317 - val_accuracy: 0.7661 - lr: 1.0000e-04\n",
      "Epoch 8/50\n",
      "287/287 [==============================] - 690s 2s/step - loss: 0.6850 - accuracy: 0.7929 - val_loss: 0.6644 - val_accuracy: 0.8165 - lr: 1.0000e-04\n",
      "Epoch 9/50\n",
      "287/287 [==============================] - 685s 2s/step - loss: 0.6504 - accuracy: 0.8068 - val_loss: 0.7027 - val_accuracy: 0.8155 - lr: 1.0000e-04\n",
      "Epoch 10/50\n",
      "287/287 [==============================] - 680s 2s/step - loss: 0.5534 - accuracy: 0.8326 - val_loss: 0.7045 - val_accuracy: 0.7984 - lr: 1.0000e-04\n",
      "Epoch 11/50\n",
      "287/287 [==============================] - 678s 2s/step - loss: 0.4616 - accuracy: 0.8550 - val_loss: 0.6657 - val_accuracy: 0.8185 - lr: 1.0000e-05\n",
      "Epoch 12/50\n",
      "287/287 [==============================] - 677s 2s/step - loss: 0.4288 - accuracy: 0.8702 - val_loss: 0.7011 - val_accuracy: 0.8175 - lr: 1.0000e-05\n",
      "Epoch 13/50\n",
      "287/287 [==============================] - 677s 2s/step - loss: 0.4036 - accuracy: 0.8712 - val_loss: 0.6375 - val_accuracy: 0.8246 - lr: 1.0000e-05\n",
      "Epoch 14/50\n",
      "287/287 [==============================] - 675s 2s/step - loss: 0.4085 - accuracy: 0.8722 - val_loss: 0.5819 - val_accuracy: 0.8448 - lr: 1.0000e-05\n",
      "Epoch 15/50\n",
      "287/287 [==============================] - 679s 2s/step - loss: 0.4001 - accuracy: 0.8784 - val_loss: 0.6496 - val_accuracy: 0.8236 - lr: 1.0000e-05\n",
      "Epoch 16/50\n",
      "287/287 [==============================] - 677s 2s/step - loss: 0.3897 - accuracy: 0.8777 - val_loss: 0.6394 - val_accuracy: 0.8357 - lr: 1.0000e-05\n",
      "Epoch 17/50\n",
      "287/287 [==============================] - 678s 2s/step - loss: 0.3578 - accuracy: 0.8890 - val_loss: 0.5983 - val_accuracy: 0.8276 - lr: 1.0000e-06\n",
      "Epoch 18/50\n",
      "287/287 [==============================] - 679s 2s/step - loss: 0.3650 - accuracy: 0.8830 - val_loss: 0.6663 - val_accuracy: 0.8165 - lr: 1.0000e-06\n",
      "Epoch 19/50\n",
      "287/287 [==============================] - 678s 2s/step - loss: 0.3643 - accuracy: 0.8832 - val_loss: 0.6072 - val_accuracy: 0.8155 - lr: 1.0000e-07\n"
     ]
    }
   ],
   "source": [
    "STEP_SIZE_TRAIN=train_generator.n//train_generator.batch_size\n",
    "STEP_SIZE_VALID=valid_generator.n//valid_generator.batch_size\n",
    "\n",
    "history = model_Xception.fit(train_generator,\n",
    "                      steps_per_epoch=STEP_SIZE_TRAIN,\n",
    "                      validation_data=valid_generator,\n",
    "                      validation_steps=STEP_SIZE_VALID,\n",
    "                      epochs=50,\n",
    "                      callbacks=[checkpoint, earlystopping, csv_logger, reduce_lr])"
   ]
  },
  {
   "cell_type": "code",
   "execution_count": null,
   "metadata": {
    "colab": {
     "base_uri": "https://localhost:8080/",
     "height": 241
    },
    "id": "xYd5pMZtmQBD",
    "outputId": "c3d6c44c-0a5a-4cef-c8ce-289ef12b89b4"
   },
   "outputs": [
    {
     "data": {
      "image/png": "[encoded data removed]",
      "text/plain": [
       "<Figure size 2160x360 with 2 Axes>"
      ]
     },
     "metadata": {
      "needs_background": "light"
     },
     "output_type": "display_data"
    }
   ],
   "source": [
    "root_dir = '/content/drive/MyDrive/self_case_study/'\n",
    "history = pd.read_csv(root_dir+\"model_Xception_history_log.csv\")\n",
    "plot_performance_metric(history)"
   ]
  },
  {
   "cell_type": "markdown",
   "metadata": {
    "id": "JcE_-j6NuW4D"
   },
   "source": [
    "#Ensemble Model"
   ]
  },
  {
   "cell_type": "code",
   "execution_count": null,
   "metadata": {
    "colab": {
     "base_uri": "https://localhost:8080/",
     "height": 1000
    },
    "id": "_PWxiIsEL1_e",
    "outputId": "9f6c7da7-43cd-4428-e506-6fed8594e66d"
   },
   "outputs": [
    {
     "name": "stdout",
     "output_type": "stream",
     "text": [
      "Downloading data from https://storage.googleapis.com/tensorflow/keras-applications/xception/xception_weights_tf_dim_ordering_tf_kernels_notop.h5\n",
      "83689472/83683744 [==============================] - 1s 0us/step\n",
      "83697664/83683744 [==============================] - 1s 0us/step\n",
      "Downloading data from https://storage.googleapis.com/tensorflow/keras-applications/inception_v3/inception_v3_weights_tf_dim_ordering_tf_kernels_notop.h5\n",
      "87916544/87910968 [==============================] - 3s 0us/step\n",
      "87924736/87910968 [==============================] - 3s 0us/step\n",
      "Downloading data from https://storage.googleapis.com/tensorflow/keras-applications/inception_resnet_v2/inception_resnet_v2_weights_tf_dim_ordering_tf_kernels_notop.h5\n",
      "219062272/219055592 [==============================] - 4s 0us/step\n",
      "219070464/219055592 [==============================] - 4s 0us/step\n",
      "Downloading data from https://storage.googleapis.com/tensorflow/keras-applications/nasnet/NASNet-large-no-top.h5\n",
      "343613440/343610240 [==============================] - 10s 0us/step\n",
      "343621632/343610240 [==============================] - 10s 0us/step\n",
      "Model: \"model\"\n",
      "__________________________________________________________________________________________________\n",
      " Layer (type)                   Output Shape         Param #     Connected to                     \n",
      "==================================================================================================\n",
      " input_5 (InputLayer)           [(None, 331, 331, 3  0           []                               \n",
      "                                )]                                                                \n",
      "                                                                                                  \n",
      " xception (Functional)          (None, 11, 11, 2048  20861480    ['input_5[0][0]']                \n",
      "                                )                                                                 \n",
      "                                                                                                  \n",
      " inception_v3 (Functional)      (None, 9, 9, 2048)   21802784    ['input_5[0][0]']                \n",
      "                                                                                                  \n",
      " inception_resnet_v2 (Functiona  (None, 9, 9, 1536)  54336736    ['input_5[0][0]']                \n",
      " l)                                                                                               \n",
      "                                                                                                  \n",
      " NASNet (Functional)            (None, 11, 11, 4032  84916818    ['input_5[0][0]']                \n",
      "                                )                                                                 \n",
      "                                                                                                  \n",
      " global_average_pooling2d (Glob  (None, 2048)        0           ['xception[0][0]']               \n",
      " alAveragePooling2D)                                                                              \n",
      "                                                                                                  \n",
      " global_average_pooling2d_1 (Gl  (None, 2048)        0           ['inception_v3[0][0]']           \n",
      " obalAveragePooling2D)                                                                            \n",
      "                                                                                                  \n",
      " global_average_pooling2d_2 (Gl  (None, 1536)        0           ['inception_resnet_v2[0][0]']    \n",
      " obalAveragePooling2D)                                                                            \n",
      "                                                                                                  \n",
      " global_average_pooling2d_3 (Gl  (None, 4032)        0           ['NASNet[0][0]']                 \n",
      " obalAveragePooling2D)                                                                            \n",
      "                                                                                                  \n",
      " concatenate_6 (Concatenate)    (None, 9664)         0           ['global_average_pooling2d[0][0]'\n",
      "                                                                 , 'global_average_pooling2d_1[0][\n",
      "                                                                 0]',                             \n",
      "                                                                  'global_average_pooling2d_2[0][0\n",
      "                                                                 ]',                              \n",
      "                                                                  'global_average_pooling2d_3[0][0\n",
      "                                                                 ]']                              \n",
      "                                                                                                  \n",
      " dropout (Dropout)              (None, 9664)         0           ['concatenate_6[0][0]']          \n",
      "                                                                                                  \n",
      " dense (Dense)                  (None, 120)          1159800     ['dropout[0][0]']                \n",
      "                                                                                                  \n",
      "==================================================================================================\n",
      "Total params: 183,077,618\n",
      "Trainable params: 1,159,800\n",
      "Non-trainable params: 181,917,818\n",
      "__________________________________________________________________________________________________\n"
     ]
    },
    {
     "data": {
      "text/plain": [
       "None"
      ]
     },
     "metadata": {},
     "output_type": "display_data"
    }
   ],
   "source": [
    "#credit:-https://www.kaggle.com/code/meherajhossain/dog-breed-transfer-learning-combining-4-backbones/notebook\n",
    "\n",
    "IMG_HEIGHT = 331\n",
    "IMG_WIDTH = 331\n",
    "model_Xception = tf.keras.applications.xception.Xception(weights='imagenet', include_top=False, input_shape=(IMG_HEIGHT, IMG_WIDTH,3))\n",
    "model_Xception.trainable = False\n",
    "\n",
    "model_inception_v3 = tf.keras.applications.inception_v3.InceptionV3(weights='imagenet', include_top=False, input_shape=(IMG_HEIGHT, IMG_WIDTH,3))\n",
    "model_inception_v3.trainable = False\n",
    "\n",
    "model_inception_resnet_v2 = tf.keras.applications.inception_resnet_v2.InceptionResNetV2(weights='imagenet', include_top=False, input_shape=(IMG_HEIGHT, IMG_WIDTH,3))\n",
    "model_inception_resnet_v2.trainable = False\n",
    "\n",
    "model_nasnet = tf.keras.applications.nasnet.NASNetLarge(weights='imagenet', include_top=False, input_shape=(IMG_HEIGHT, IMG_WIDTH,3))\n",
    "model_nasnet.trainable = False\n",
    "\n",
    "inputs = Input(shape=(IMG_HEIGHT, IMG_WIDTH, 3))\n",
    "\n",
    "x1 = model_Xception(inputs, training=False)\n",
    "x1 = GlobalAveragePooling2D()(x1)\n",
    "\n",
    "x2 = model_inception_v3(inputs, training=False)\n",
    "x2 = GlobalAveragePooling2D()(x2)\n",
    "\n",
    "x3 = model_inception_resnet_v2(inputs, training=False)\n",
    "x3 = GlobalAveragePooling2D()(x3)\n",
    "\n",
    "x5 = model_nasnet(inputs, training=False)\n",
    "x5 = GlobalAveragePooling2D()(x5)\n",
    "\n",
    "x = Concatenate()([x1, x2, x3, x5])\n",
    "x = Dropout(.7)(x)\n",
    "outputs = Dense(120, activation='softmax')(x)\n",
    "model = Model(inputs, outputs)\n",
    "\n",
    "display(model.summary())"
   ]
  },
  {
   "cell_type": "code",
   "execution_count": null,
   "metadata": {
    "id": "LkfWzCrk34Uk"
   },
   "outputs": [],
   "source": [
    "optimizer = tf.keras.optimizers.Adam(learning_rate=0.001)\n",
    "model.compile(loss=\"categorical_crossentropy\", metrics=['accuracy'], optimizer=optimizer)"
   ]
  },
  {
   "cell_type": "code",
   "execution_count": null,
   "metadata": {
    "id": "8iAHGMjb34dK"
   },
   "outputs": [],
   "source": [
    "earlystopping = tf.keras.callbacks.EarlyStopping(monitor='val_accuracy', patience=5,mode='max')\n",
    "reduce_lr = tf.keras.callbacks.ReduceLROnPlateau(monitor='val_accuracy', min_lr=0.0000001,patience=2)\n",
    "\n",
    "root_dir = '/content/drive/MyDrive/self_case_study/debun/'\n",
    "from keras.callbacks import CSVLogger\n",
    "\n",
    "csv_logger = CSVLogger(root_dir+\"model_ensemble_history_log.csv\", append=True,separator=\",\")\n",
    "\n",
    "checkpoint = ModelCheckpoint(root_dir+'model_ensemble_weights.h5', save_weights_only=True, save_best_only=True, \\\n",
    "                                       mode='max', monitor='val_accuracy')"
   ]
  },
  {
   "cell_type": "code",
   "execution_count": null,
   "metadata": {
    "colab": {
     "base_uri": "https://localhost:8080/"
    },
    "id": "muQdjPDg3mSq",
    "outputId": "ef1d0686-c34a-4e26-d310-9a75604b686c"
   },
   "outputs": [
    {
     "name": "stdout",
     "output_type": "stream",
     "text": [
      "Epoch 1/50\n",
      "72/72 [==============================] - 678s 9s/step - loss: 1.1251 - accuracy: 0.7651 - val_loss: 0.3508 - val_accuracy: 0.8933 - lr: 0.0010\n",
      "Epoch 2/50\n",
      "72/72 [==============================] - 567s 8s/step - loss: 0.3075 - accuracy: 0.9060 - val_loss: 0.3624 - val_accuracy: 0.8933 - lr: 0.0010\n",
      "Epoch 3/50\n",
      "72/72 [==============================] - 584s 8s/step - loss: 0.2658 - accuracy: 0.9177 - val_loss: 0.3472 - val_accuracy: 0.8953 - lr: 0.0010\n",
      "Epoch 4/50\n",
      "72/72 [==============================] - 567s 8s/step - loss: 0.2482 - accuracy: 0.9200 - val_loss: 0.3696 - val_accuracy: 0.8875 - lr: 0.0010\n",
      "Epoch 5/50\n",
      "72/72 [==============================] - 582s 8s/step - loss: 0.2238 - accuracy: 0.9280 - val_loss: 0.3442 - val_accuracy: 0.9002 - lr: 0.0010\n",
      "Epoch 6/50\n",
      "72/72 [==============================] - 567s 8s/step - loss: 0.2049 - accuracy: 0.9317 - val_loss: 0.3399 - val_accuracy: 0.8982 - lr: 0.0010\n",
      "Epoch 7/50\n",
      "72/72 [==============================] - 566s 8s/step - loss: 0.1858 - accuracy: 0.9371 - val_loss: 0.3682 - val_accuracy: 0.9002 - lr: 0.0010\n",
      "Epoch 8/50\n",
      "72/72 [==============================] - 584s 8s/step - loss: 0.1583 - accuracy: 0.9455 - val_loss: 0.3345 - val_accuracy: 0.9090 - lr: 1.0000e-04\n",
      "Epoch 9/50\n",
      "72/72 [==============================] - 567s 8s/step - loss: 0.1450 - accuracy: 0.9492 - val_loss: 0.3390 - val_accuracy: 0.8924 - lr: 1.0000e-04\n",
      "Epoch 10/50\n",
      "72/72 [==============================] - 566s 8s/step - loss: 0.1365 - accuracy: 0.9528 - val_loss: 0.3399 - val_accuracy: 0.9051 - lr: 1.0000e-04\n",
      "Epoch 11/50\n",
      "72/72 [==============================] - 580s 8s/step - loss: 0.1363 - accuracy: 0.9521 - val_loss: 0.3281 - val_accuracy: 0.9110 - lr: 1.0000e-05\n",
      "Epoch 12/50\n",
      "72/72 [==============================] - 567s 8s/step - loss: 0.1350 - accuracy: 0.9552 - val_loss: 0.3499 - val_accuracy: 0.8933 - lr: 1.0000e-05\n",
      "Epoch 13/50\n",
      "72/72 [==============================] - 567s 8s/step - loss: 0.1329 - accuracy: 0.9530 - val_loss: 0.3037 - val_accuracy: 0.9100 - lr: 1.0000e-05\n",
      "Epoch 14/50\n",
      "72/72 [==============================] - 566s 8s/step - loss: 0.1354 - accuracy: 0.9527 - val_loss: 0.3307 - val_accuracy: 0.9080 - lr: 1.0000e-06\n",
      "Epoch 15/50\n",
      "72/72 [==============================] - 566s 8s/step - loss: 0.1349 - accuracy: 0.9542 - val_loss: 0.3093 - val_accuracy: 0.9051 - lr: 1.0000e-06\n",
      "Epoch 16/50\n",
      "72/72 [==============================] - 566s 8s/step - loss: 0.1355 - accuracy: 0.9537 - val_loss: 0.3141 - val_accuracy: 0.9090 - lr: 1.0000e-07\n"
     ]
    }
   ],
   "source": [
    "STEP_SIZE_TRAIN=train_generator.n//train_generator.batch_size\n",
    "STEP_SIZE_VALID=valid_generator.n//valid_generator.batch_size\n",
    "\n",
    "history = model.fit(train_generator,\n",
    "                      validation_data=valid_generator,\n",
    "                      epochs=50,\n",
    "                      callbacks=[checkpoint, earlystopping, csv_logger, reduce_lr])"
   ]
  },
  {
   "cell_type": "code",
   "execution_count": null,
   "metadata": {
    "colab": {
     "base_uri": "https://localhost:8080/",
     "height": 266
    },
    "id": "uNeERlOm7oDr",
    "outputId": "520e744f-4d0f-4a69-a233-5940a709bb8c"
   },
   "outputs": [
    {
     "data": {
      "image/png": "[encoded data removed]",
      "text/plain": [
       "<Figure size 2160x360 with 2 Axes>"
      ]
     },
     "metadata": {
      "needs_background": "light"
     },
     "output_type": "display_data"
    }
   ],
   "source": [
    "root_dir = '/content/drive/MyDrive/self_case_study/'\n",
    "history = pd.read_csv(root_dir+\"model_ensemble_history_log.csv\")\n",
    "plot_performance_metric(history)"
   ]
  },
  {
   "cell_type": "code",
   "execution_count": null,
   "metadata": {
    "colab": {
     "base_uri": "https://localhost:8080/",
     "height": 743
    },
    "id": "76OTR9hCZE6Q",
    "outputId": "5266734e-133d-4a20-b9cf-3a91a5faf761"
   },
   "outputs": [
    {
     "name": "stdout",
     "output_type": "stream",
     "text": [
      "Downloading data from https://storage.googleapis.com/tensorflow/keras-applications/inception_resnet_v2/inception_resnet_v2_weights_tf_dim_ordering_tf_kernels_notop.h5\n",
      "219062272/219055592 [==============================] - 1s 0us/step\n",
      "219070464/219055592 [==============================] - 1s 0us/step\n",
      "Downloading data from https://storage.googleapis.com/tensorflow/keras-applications/nasnet/NASNet-large-no-top.h5\n",
      "343613440/343610240 [==============================] - 2s 0us/step\n",
      "343621632/343610240 [==============================] - 2s 0us/step\n",
      "Model: \"model\"\n",
      "__________________________________________________________________________________________________\n",
      " Layer (type)                   Output Shape         Param #     Connected to                     \n",
      "==================================================================================================\n",
      " input_3 (InputLayer)           [(None, 331, 331, 3  0           []                               \n",
      "                                )]                                                                \n",
      "                                                                                                  \n",
      " inception_resnet_v2 (Functiona  (None, 9, 9, 1536)  54336736    ['input_3[0][0]']                \n",
      " l)                                                                                               \n",
      "                                                                                                  \n",
      " NASNet (Functional)            (None, 11, 11, 4032  84916818    ['input_3[0][0]']                \n",
      "                                )                                                                 \n",
      "                                                                                                  \n",
      " global_average_pooling2d (Glob  (None, 1536)        0           ['inception_resnet_v2[0][0]']    \n",
      " alAveragePooling2D)                                                                              \n",
      "                                                                                                  \n",
      " global_average_pooling2d_1 (Gl  (None, 4032)        0           ['NASNet[0][0]']                 \n",
      " obalAveragePooling2D)                                                                            \n",
      "                                                                                                  \n",
      " concatenate_4 (Concatenate)    (None, 5568)         0           ['global_average_pooling2d[0][0]'\n",
      "                                                                 , 'global_average_pooling2d_1[0][\n",
      "                                                                 0]']                             \n",
      "                                                                                                  \n",
      " dropout (Dropout)              (None, 5568)         0           ['concatenate_4[0][0]']          \n",
      "                                                                                                  \n",
      " dense (Dense)                  (None, 120)          668280      ['dropout[0][0]']                \n",
      "                                                                                                  \n",
      "==================================================================================================\n",
      "Total params: 139,921,834\n",
      "Trainable params: 668,280\n",
      "Non-trainable params: 139,253,554\n",
      "__________________________________________________________________________________________________\n"
     ]
    },
    {
     "data": {
      "text/plain": [
       "None"
      ]
     },
     "metadata": {},
     "output_type": "display_data"
    }
   ],
   "source": [
    "IMG_HEIGHT = 331\n",
    "IMG_WIDTH = 331\n",
    "\n",
    "model_inception_resnet_v2 = tf.keras.applications.inception_resnet_v2.InceptionResNetV2(weights='imagenet', include_top=False, input_shape=(IMG_HEIGHT, IMG_WIDTH,3))\n",
    "model_inception_resnet_v2.trainable = False\n",
    "\n",
    "model_nasnet = tf.keras.applications.nasnet.NASNetLarge(weights='imagenet', include_top=False, input_shape=(IMG_HEIGHT, IMG_WIDTH,3))\n",
    "model_nasnet.trainable = False\n",
    "\n",
    "inputs = Input(shape=(IMG_HEIGHT, IMG_WIDTH, 3))\n",
    "\n",
    "x1 = model_inception_resnet_v2(inputs, training=False)\n",
    "x1 = GlobalAveragePooling2D()(x1)\n",
    "\n",
    "x2 = model_nasnet(inputs, training=False)\n",
    "x2 = GlobalAveragePooling2D()(x2)\n",
    "\n",
    "x = Concatenate()([x1, x2])\n",
    "x = Dropout(.7)(x)\n",
    "outputs = Dense(120, activation='softmax')(x)\n",
    "model = Model(inputs, outputs)\n",
    "\n",
    "display(model.summary())"
   ]
  },
  {
   "cell_type": "code",
   "execution_count": null,
   "metadata": {
    "id": "9LtAygiRZ4wQ"
   },
   "outputs": [],
   "source": [
    "optimizer = tf.keras.optimizers.Adam(learning_rate=0.001)\n",
    "model.compile(loss=\"categorical_crossentropy\", metrics=['accuracy'], optimizer=optimizer)"
   ]
  },
  {
   "cell_type": "code",
   "execution_count": null,
   "metadata": {
    "id": "_sn2_lWLZ46x"
   },
   "outputs": [],
   "source": [
    "earlystopping = tf.keras.callbacks.EarlyStopping(monitor='val_accuracy', patience=5,mode='max')\n",
    "reduce_lr = tf.keras.callbacks.ReduceLROnPlateau(monitor='val_accuracy', min_lr=0.0000001,patience=2)\n",
    "\n",
    "root_dir = '/content/drive/MyDrive/self_case_study/'\n",
    "from keras.callbacks import CSVLogger\n",
    "\n",
    "csv_logger = CSVLogger(root_dir+\"model_ensemble_history_log2.csv\", append=True,separator=\",\")\n",
    "\n",
    "checkpoint = ModelCheckpoint(root_dir+'model_ensemble_weights2.h5', save_weights_only=True, save_best_only=True, \\\n",
    "                                       mode='max', monitor='val_accuracy')"
   ]
  },
  {
   "cell_type": "code",
   "execution_count": null,
   "metadata": {
    "colab": {
     "base_uri": "https://localhost:8080/"
    },
    "id": "TaA21Nb9Z3l0",
    "outputId": "edd10ca3-663e-4f56-9d8e-88f6c74fedbc"
   },
   "outputs": [
    {
     "name": "stdout",
     "output_type": "stream",
     "text": [
      "Epoch 1/50\n",
      "72/72 [==============================] - 522s 7s/step - loss: 1.3692 - accuracy: 0.7490 - val_loss: 0.3504 - val_accuracy: 0.8924 - lr: 0.0010\n",
      "Epoch 2/50\n",
      "72/72 [==============================] - 462s 6s/step - loss: 0.3152 - accuracy: 0.9042 - val_loss: 0.3299 - val_accuracy: 0.8992 - lr: 0.0010\n",
      "Epoch 3/50\n",
      "72/72 [==============================] - 456s 6s/step - loss: 0.2853 - accuracy: 0.9136 - val_loss: 0.3168 - val_accuracy: 0.9070 - lr: 0.0010\n",
      "Epoch 4/50\n",
      "72/72 [==============================] - 443s 6s/step - loss: 0.2633 - accuracy: 0.9167 - val_loss: 0.3290 - val_accuracy: 0.9012 - lr: 0.0010\n",
      "Epoch 5/50\n",
      "72/72 [==============================] - 443s 6s/step - loss: 0.2420 - accuracy: 0.9213 - val_loss: 0.3291 - val_accuracy: 0.9002 - lr: 0.0010\n",
      "Epoch 6/50\n",
      "72/72 [==============================] - 442s 6s/step - loss: 0.2191 - accuracy: 0.9290 - val_loss: 0.3148 - val_accuracy: 0.9031 - lr: 1.0000e-04\n",
      "Epoch 7/50\n",
      "72/72 [==============================] - 452s 6s/step - loss: 0.2104 - accuracy: 0.9310 - val_loss: 0.3059 - val_accuracy: 0.9080 - lr: 1.0000e-04\n",
      "Epoch 8/50\n",
      "72/72 [==============================] - 443s 6s/step - loss: 0.2075 - accuracy: 0.9307 - val_loss: 0.3179 - val_accuracy: 0.9070 - lr: 1.0000e-04\n",
      "Epoch 9/50\n",
      "72/72 [==============================] - 443s 6s/step - loss: 0.2083 - accuracy: 0.9301 - val_loss: 0.3324 - val_accuracy: 0.8963 - lr: 1.0000e-04\n",
      "Epoch 10/50\n",
      "72/72 [==============================] - 445s 6s/step - loss: 0.2042 - accuracy: 0.9330 - val_loss: 0.3275 - val_accuracy: 0.9041 - lr: 1.0000e-05\n",
      "Epoch 11/50\n",
      "72/72 [==============================] - 453s 6s/step - loss: 0.1990 - accuracy: 0.9332 - val_loss: 0.3104 - val_accuracy: 0.9159 - lr: 1.0000e-05\n",
      "Epoch 12/50\n",
      "72/72 [==============================] - 445s 6s/step - loss: 0.2030 - accuracy: 0.9323 - val_loss: 0.3291 - val_accuracy: 0.9080 - lr: 1.0000e-05\n",
      "Epoch 13/50\n",
      "72/72 [==============================] - 445s 6s/step - loss: 0.1986 - accuracy: 0.9326 - val_loss: 0.2952 - val_accuracy: 0.9100 - lr: 1.0000e-05\n",
      "Epoch 14/50\n",
      "72/72 [==============================] - 446s 6s/step - loss: 0.2010 - accuracy: 0.9340 - val_loss: 0.3074 - val_accuracy: 0.9090 - lr: 1.0000e-06\n",
      "Epoch 15/50\n",
      "72/72 [==============================] - 445s 6s/step - loss: 0.1980 - accuracy: 0.9359 - val_loss: 0.2970 - val_accuracy: 0.9061 - lr: 1.0000e-06\n",
      "Epoch 16/50\n",
      "72/72 [==============================] - 445s 6s/step - loss: 0.1928 - accuracy: 0.9362 - val_loss: 0.2990 - val_accuracy: 0.9129 - lr: 1.0000e-07\n"
     ]
    }
   ],
   "source": [
    "STEP_SIZE_TRAIN=train_generator.n//train_generator.batch_size\n",
    "STEP_SIZE_VALID=valid_generator.n//valid_generator.batch_size\n",
    "\n",
    "history = model.fit(train_generator,\n",
    "                      validation_data=valid_generator,\n",
    "                      epochs=50,\n",
    "                      callbacks=[checkpoint, earlystopping, csv_logger, reduce_lr])"
   ]
  },
  {
   "cell_type": "code",
   "execution_count": null,
   "metadata": {
    "colab": {
     "base_uri": "https://localhost:8080/",
     "height": 168
    },
    "id": "fG5otu6L2CE4",
    "outputId": "a28d0314-8d5c-426d-e521-6010bd0db2eb"
   },
   "outputs": [
    {
     "data": {
      "image/png": "[encoded data removed]",
      "text/plain": [
       "<Figure size 2160x360 with 2 Axes>"
      ]
     },
     "metadata": {
      "needs_background": "light"
     },
     "output_type": "display_data"
    }
   ],
   "source": [
    "root_dir = '/content/drive/MyDrive/self_case_study/'\n",
    "history = pd.read_csv(root_dir+\"model_ensemble_history_log2.csv\")\n",
    "plot_performance_metric(history)"
   ]
  },
  {
   "cell_type": "code",
   "execution_count": null,
   "metadata": {
    "id": "mkWLmKCSWdGj"
   },
   "outputs": [],
   "source": [
    "root_dir = '/content/drive/MyDrive/self_case_study/'\n",
    "filepath=root_dir+'model_ensemble_weights2.h5'\n",
    "model.load_weights(filepath)"
   ]
  },
  {
   "cell_type": "code",
   "execution_count": null,
   "metadata": {
    "colab": {
     "base_uri": "https://localhost:8080/"
    },
    "id": "P-y4GOAJYIYb",
    "outputId": "59f72a66-9932-4521-d794-032ca8dd3359"
   },
   "outputs": [
    {
     "name": "stderr",
     "output_type": "stream",
     "text": [
      "100%|██████████| 10357/10357 [01:05<00:00, 159.30it/s]\n"
     ]
    }
   ],
   "source": [
    "import shutil\n",
    "os.makedirs(\"root/data/test/\")\n",
    "for i in tqdm(range(len(os.listdir('test')))):\n",
    "    dir = os.listdir('test')[i]\n",
    "    source = \"test/\"+dir\n",
    "\n",
    "    # Destination path\n",
    "    destination = \"root/data/test/\"\n",
    "    shutil.copy(source, destination)"
   ]
  },
  {
   "cell_type": "code",
   "execution_count": null,
   "metadata": {
    "colab": {
     "base_uri": "https://localhost:8080/"
    },
    "id": "Uc6ZWzhPYJAS",
    "outputId": "0342d9a1-6dfd-4fbd-f1c8-844000589310"
   },
   "outputs": [
    {
     "name": "stdout",
     "output_type": "stream",
     "text": [
      "Found 10357 images belonging to 1 classes.\n"
     ]
    }
   ],
   "source": [
    "test_datagen = ImageDataGenerator(rescale=1./255)\n",
    "test_data = test_datagen.flow_from_directory(\n",
    "        'root/data/',\n",
    "        target_size=(331, 331),\n",
    "        batch_size=32,\n",
    "        class_mode=None,\n",
    "        shuffle=False)"
   ]
  },
  {
   "cell_type": "code",
   "execution_count": null,
   "metadata": {
    "id": "WNWSzg0eYI5r"
   },
   "outputs": [],
   "source": [
    "prediction = model.predict(test_data)"
   ]
  },
  {
   "cell_type": "code",
   "execution_count": null,
   "metadata": {
    "id": "2M-EoOOYYUfL"
   },
   "outputs": [],
   "source": [
    "id = []\n",
    "for i in sorted(os.listdir('test')):\n",
    "  id.append(i.split('.')[0])"
   ]
  },
  {
   "cell_type": "code",
   "execution_count": null,
   "metadata": {
    "colab": {
     "base_uri": "https://localhost:8080/"
    },
    "id": "Qj1dsfsmYb9K",
    "outputId": "470f4127-7faf-4766-d3a4-d3d6054488b4"
   },
   "outputs": [
    {
     "name": "stderr",
     "output_type": "stream",
     "text": [
      "100%|██████████| 10357/10357 [01:47<00:00, 96.50it/s]\n"
     ]
    }
   ],
   "source": [
    "submission = pd.DataFrame(columns=['id']+sorted(np.unique(data['breed'])))\n",
    "\n",
    "for i in tqdm(range(10357)):\n",
    "  row = []\n",
    "  row.append(id[i])\n",
    "  for x in prediction[i]:\n",
    "    row.append(x)\n",
    "  submission.loc[len(submission.index)] = row"
   ]
  },
  {
   "cell_type": "code",
   "execution_count": null,
   "metadata": {
    "colab": {
     "base_uri": "https://localhost:8080/",
     "height": 404
    },
    "id": "_EqPHwwQYgV7",
    "outputId": "a69e520c-f09f-438c-a322-110d9a787677"
   },
   "outputs": [
    {
     "data": {
      "text/html": [
       "\n",
       "  <div id=\"df-83875bde-0beb-48a4-9503-d29b613b1f24\">\n",
       "    <div class=\"colab-df-container\">\n",
       "      <div>\n",
       "<style scoped>\n",
       "    .dataframe tbody tr th:only-of-type {\n",
       "        vertical-align: middle;\n",
       "    }\n",
       "\n",
       "    .dataframe tbody tr th {\n",
       "        vertical-align: top;\n",
       "    }\n",
       "\n",
       "    .dataframe thead th {\n",
       "        text-align: right;\n",
       "    }\n",
       "</style>\n",
       "<table border=\"1\" class=\"dataframe\">\n",
       "  <thead>\n",
       "    <tr style=\"text-align: right;\">\n",
       "      <th></th>\n",
       "      <th>id</th>\n",
       "      <th>affenpinscher</th>\n",
       "      <th>afghan_hound</th>\n",
       "      <th>african_hunting_dog</th>\n",
       "      <th>airedale</th>\n",
       "      <th>american_staffordshire_terrier</th>\n",
       "      <th>appenzeller</th>\n",
       "      <th>australian_terrier</th>\n",
       "      <th>basenji</th>\n",
       "      <th>basset</th>\n",
       "      <th>...</th>\n",
       "      <th>toy_poodle</th>\n",
       "      <th>toy_terrier</th>\n",
       "      <th>vizsla</th>\n",
       "      <th>walker_hound</th>\n",
       "      <th>weimaraner</th>\n",
       "      <th>welsh_springer_spaniel</th>\n",
       "      <th>west_highland_white_terrier</th>\n",
       "      <th>whippet</th>\n",
       "      <th>wire-haired_fox_terrier</th>\n",
       "      <th>yorkshire_terrier</th>\n",
       "    </tr>\n",
       "  </thead>\n",
       "  <tbody>\n",
       "    <tr>\n",
       "      <th>0</th>\n",
       "      <td>000621fb3cbb32d8935728e48679680e</td>\n",
       "      <td>0.000006</td>\n",
       "      <td>0.000004</td>\n",
       "      <td>2.030777e-06</td>\n",
       "      <td>0.000001</td>\n",
       "      <td>0.000002</td>\n",
       "      <td>0.000002</td>\n",
       "      <td>1.597591e-06</td>\n",
       "      <td>0.000001</td>\n",
       "      <td>0.000003</td>\n",
       "      <td>...</td>\n",
       "      <td>0.000005</td>\n",
       "      <td>0.000002</td>\n",
       "      <td>0.000001</td>\n",
       "      <td>0.000002</td>\n",
       "      <td>6.728905e-07</td>\n",
       "      <td>0.000001</td>\n",
       "      <td>9.872916e-07</td>\n",
       "      <td>0.000001</td>\n",
       "      <td>3.407883e-06</td>\n",
       "      <td>0.000001</td>\n",
       "    </tr>\n",
       "    <tr>\n",
       "      <th>1</th>\n",
       "      <td>00102ee9d8eb90812350685311fe5890</td>\n",
       "      <td>0.000003</td>\n",
       "      <td>0.000006</td>\n",
       "      <td>4.276502e-06</td>\n",
       "      <td>0.000003</td>\n",
       "      <td>0.000020</td>\n",
       "      <td>0.000016</td>\n",
       "      <td>4.874784e-06</td>\n",
       "      <td>0.000006</td>\n",
       "      <td>0.000003</td>\n",
       "      <td>...</td>\n",
       "      <td>0.000004</td>\n",
       "      <td>0.000014</td>\n",
       "      <td>0.000006</td>\n",
       "      <td>0.000008</td>\n",
       "      <td>7.262964e-06</td>\n",
       "      <td>0.000003</td>\n",
       "      <td>1.978221e-05</td>\n",
       "      <td>0.000004</td>\n",
       "      <td>4.131025e-06</td>\n",
       "      <td>0.000006</td>\n",
       "    </tr>\n",
       "    <tr>\n",
       "      <th>2</th>\n",
       "      <td>0012a730dfa437f5f3613fb75efcd4ce</td>\n",
       "      <td>0.000002</td>\n",
       "      <td>0.000031</td>\n",
       "      <td>1.582063e-05</td>\n",
       "      <td>0.000006</td>\n",
       "      <td>0.000002</td>\n",
       "      <td>0.000009</td>\n",
       "      <td>1.799378e-06</td>\n",
       "      <td>0.000002</td>\n",
       "      <td>0.000013</td>\n",
       "      <td>...</td>\n",
       "      <td>0.000002</td>\n",
       "      <td>0.000003</td>\n",
       "      <td>0.000006</td>\n",
       "      <td>0.000017</td>\n",
       "      <td>6.358761e-05</td>\n",
       "      <td>0.000018</td>\n",
       "      <td>1.802823e-06</td>\n",
       "      <td>0.000006</td>\n",
       "      <td>4.108624e-06</td>\n",
       "      <td>0.000002</td>\n",
       "    </tr>\n",
       "    <tr>\n",
       "      <th>3</th>\n",
       "      <td>001510bc8570bbeee98c8d80c8a95ec1</td>\n",
       "      <td>0.000020</td>\n",
       "      <td>0.000009</td>\n",
       "      <td>9.082563e-07</td>\n",
       "      <td>0.000009</td>\n",
       "      <td>0.000008</td>\n",
       "      <td>0.000026</td>\n",
       "      <td>9.592111e-07</td>\n",
       "      <td>0.000004</td>\n",
       "      <td>0.000007</td>\n",
       "      <td>...</td>\n",
       "      <td>0.000004</td>\n",
       "      <td>0.000003</td>\n",
       "      <td>0.000002</td>\n",
       "      <td>0.000002</td>\n",
       "      <td>3.255347e-06</td>\n",
       "      <td>0.000002</td>\n",
       "      <td>1.401686e-06</td>\n",
       "      <td>0.000031</td>\n",
       "      <td>2.905903e-07</td>\n",
       "      <td>0.000003</td>\n",
       "    </tr>\n",
       "    <tr>\n",
       "      <th>4</th>\n",
       "      <td>001a5f3114548acdefa3d4da05474c2e</td>\n",
       "      <td>0.000821</td>\n",
       "      <td>0.000033</td>\n",
       "      <td>6.626959e-06</td>\n",
       "      <td>0.000012</td>\n",
       "      <td>0.000002</td>\n",
       "      <td>0.000017</td>\n",
       "      <td>4.771727e-06</td>\n",
       "      <td>0.000006</td>\n",
       "      <td>0.000016</td>\n",
       "      <td>...</td>\n",
       "      <td>0.000007</td>\n",
       "      <td>0.000011</td>\n",
       "      <td>0.000005</td>\n",
       "      <td>0.000006</td>\n",
       "      <td>3.811899e-06</td>\n",
       "      <td>0.000001</td>\n",
       "      <td>1.531241e-06</td>\n",
       "      <td>0.000015</td>\n",
       "      <td>3.263617e-06</td>\n",
       "      <td>0.000029</td>\n",
       "    </tr>\n",
       "  </tbody>\n",
       "</table>\n",
       "<p>5 rows × 121 columns</p>\n",
       "</div>\n",
       "      <button class=\"colab-df-convert\" onclick=\"convertToInteractive('df-83875bde-0beb-48a4-9503-d29b613b1f24')\"\n",
       "              title=\"Convert this dataframe to an interactive table.\"\n",
       "              style=\"display:none;\">\n",
       "        \n",
       "  <svg xmlns=\"http://www.w3.org/2000/svg\" height=\"24px\"viewBox=\"0 0 24 24\"\n",
       "       width=\"24px\">\n",
       "    <path d=\"M0 0h24v24H0V0z\" fill=\"none\"/>\n",
       "    <path d=\"M18.56 5.44l.94 2.06.94-2.06 2.06-.94-2.06-.94-.94-2.06-.94 2.06-2.06.94zm-11 1L8.5 8.5l.94-2.06 2.06-.94-2.06-.94L8.5 2.5l-.94 2.06-2.06.94zm10 10l.94 2.06.94-2.06 2.06-.94-2.06-.94-.94-2.06-.94 2.06-2.06.94z\"/><path d=\"M17.41 7.96l-1.37-1.37c-.4-.4-.92-.59-1.43-.59-.52 0-1.04.2-1.43.59L10.3 9.45l-7.72 7.72c-.78.78-.78 2.05 0 2.83L4 21.41c.39.39.9.59 1.41.59.51 0 1.02-.2 1.41-.59l7.78-7.78 2.81-2.81c.8-.78.8-2.07 0-2.86zM5.41 20L4 18.59l7.72-7.72 1.47 1.35L5.41 20z\"/>\n",
       "  </svg>\n",
       "      </button>\n",
       "      \n",
       "  <style>\n",
       "    .colab-df-container {\n",
       "      display:flex;\n",
       "      flex-wrap:wrap;\n",
       "      gap: 12px;\n",
       "    }\n",
       "\n",
       "    .colab-df-convert {\n",
       "      background-color: #E8F0FE;\n",
       "      border: none;\n",
       "      border-radius: 50%;\n",
       "      cursor: pointer;\n",
       "      display: none;\n",
       "      fill: #1967D2;\n",
       "      height: 32px;\n",
       "      padding: 0 0 0 0;\n",
       "      width: 32px;\n",
       "    }\n",
       "\n",
       "    .colab-df-convert:hover {\n",
       "      background-color: #E2EBFA;\n",
       "      box-shadow: 0px 1px 2px rgba(60, 64, 67, 0.3), 0px 1px 3px 1px rgba(60, 64, 67, 0.15);\n",
       "      fill: #174EA6;\n",
       "    }\n",
       "\n",
       "    [theme=dark] .colab-df-convert {\n",
       "      background-color: #3B4455;\n",
       "      fill: #D2E3FC;\n",
       "    }\n",
       "\n",
       "    [theme=dark] .colab-df-convert:hover {\n",
       "      background-color: #434B5C;\n",
       "      box-shadow: 0px 1px 3px 1px rgba(0, 0, 0, 0.15);\n",
       "      filter: drop-shadow(0px 1px 2px rgba(0, 0, 0, 0.3));\n",
       "      fill: #FFFFFF;\n",
       "    }\n",
       "  </style>\n",
       "\n",
       "      <script>\n",
       "        const buttonEl =\n",
       "          document.querySelector('#df-83875bde-0beb-48a4-9503-d29b613b1f24 button.colab-df-convert');\n",
       "        buttonEl.style.display =\n",
       "          google.colab.kernel.accessAllowed ? 'block' : 'none';\n",
       "\n",
       "        async function convertToInteractive(key) {\n",
       "          const element = document.querySelector('#df-83875bde-0beb-48a4-9503-d29b613b1f24');\n",
       "          const dataTable =\n",
       "            await google.colab.kernel.invokeFunction('convertToInteractive',\n",
       "                                                     [key], {});\n",
       "          if (!dataTable) return;\n",
       "\n",
       "          const docLinkHtml = 'Like what you see? Visit the ' +\n",
       "            '<a target=\"_blank\" href=https://colab.research.google.com/notebooks/data_table.ipynb>data table notebook</a>'\n",
       "            + ' to learn more about interactive tables.';\n",
       "          element.innerHTML = '';\n",
       "          dataTable['output_type'] = 'display_data';\n",
       "          await google.colab.output.renderOutput(dataTable, element);\n",
       "          const docLink = document.createElement('div');\n",
       "          docLink.innerHTML = docLinkHtml;\n",
       "          element.appendChild(docLink);\n",
       "        }\n",
       "      </script>\n",
       "    </div>\n",
       "  </div>\n",
       "  "
      ],
      "text/plain": [
       "                                 id  affenpinscher  afghan_hound  \\\n",
       "0  000621fb3cbb32d8935728e48679680e       0.000006      0.000004   \n",
       "1  00102ee9d8eb90812350685311fe5890       0.000003      0.000006   \n",
       "2  0012a730dfa437f5f3613fb75efcd4ce       0.000002      0.000031   \n",
       "3  001510bc8570bbeee98c8d80c8a95ec1       0.000020      0.000009   \n",
       "4  001a5f3114548acdefa3d4da05474c2e       0.000821      0.000033   \n",
       "\n",
       "   african_hunting_dog  airedale  american_staffordshire_terrier  appenzeller  \\\n",
       "0         2.030777e-06  0.000001                        0.000002     0.000002   \n",
       "1         4.276502e-06  0.000003                        0.000020     0.000016   \n",
       "2         1.582063e-05  0.000006                        0.000002     0.000009   \n",
       "3         9.082563e-07  0.000009                        0.000008     0.000026   \n",
       "4         6.626959e-06  0.000012                        0.000002     0.000017   \n",
       "\n",
       "   australian_terrier   basenji    basset  ...  toy_poodle  toy_terrier  \\\n",
       "0        1.597591e-06  0.000001  0.000003  ...    0.000005     0.000002   \n",
       "1        4.874784e-06  0.000006  0.000003  ...    0.000004     0.000014   \n",
       "2        1.799378e-06  0.000002  0.000013  ...    0.000002     0.000003   \n",
       "3        9.592111e-07  0.000004  0.000007  ...    0.000004     0.000003   \n",
       "4        4.771727e-06  0.000006  0.000016  ...    0.000007     0.000011   \n",
       "\n",
       "     vizsla  walker_hound    weimaraner  welsh_springer_spaniel  \\\n",
       "0  0.000001      0.000002  6.728905e-07                0.000001   \n",
       "1  0.000006      0.000008  7.262964e-06                0.000003   \n",
       "2  0.000006      0.000017  6.358761e-05                0.000018   \n",
       "3  0.000002      0.000002  3.255347e-06                0.000002   \n",
       "4  0.000005      0.000006  3.811899e-06                0.000001   \n",
       "\n",
       "   west_highland_white_terrier   whippet  wire-haired_fox_terrier  \\\n",
       "0                 9.872916e-07  0.000001             3.407883e-06   \n",
       "1                 1.978221e-05  0.000004             4.131025e-06   \n",
       "2                 1.802823e-06  0.000006             4.108624e-06   \n",
       "3                 1.401686e-06  0.000031             2.905903e-07   \n",
       "4                 1.531241e-06  0.000015             3.263617e-06   \n",
       "\n",
       "   yorkshire_terrier  \n",
       "0           0.000001  \n",
       "1           0.000006  \n",
       "2           0.000002  \n",
       "3           0.000003  \n",
       "4           0.000029  \n",
       "\n",
       "[5 rows x 121 columns]"
      ]
     },
     "execution_count": 22,
     "metadata": {},
     "output_type": "execute_result"
    }
   ],
   "source": [
    "submission.head()"
   ]
  },
  {
   "cell_type": "code",
   "execution_count": null,
   "metadata": {
    "id": "hoYBQ_FyYlAy"
   },
   "outputs": [],
   "source": [
    "submission.to_csv('model_ensemble_2.csv',index=False)"
   ]
  },
  {
   "cell_type": "code",
   "execution_count": null,
   "metadata": {
    "colab": {
     "base_uri": "https://localhost:8080/"
    },
    "id": "SOMyHBFVp0jp",
    "outputId": "ceb434fa-cb3a-430e-b73b-0a589dc737d1"
   },
   "outputs": [
    {
     "name": "stdout",
     "output_type": "stream",
     "text": [
      "+-------------------------------+------------+-----------+--------------+\n",
      "|           Model Name          | Train Loss | Test Loss | Kaggle Score |\n",
      "+-------------------------------+------------+-----------+--------------+\n",
      "|      inception_resnet_v2      |   0.3833   |   0.5626  |    0.308     |\n",
      "|             Nasnet            |   0.2484   |   0.5413  |    0.321     |\n",
      "|          InceptionV3          |   0.3952   |   0.6826  |    0.435     |\n",
      "|            Xception           |   0.3643   |   0.6072  |    0.397     |\n",
      "|       Ensemble 4 Models       |   0.1355   |   0.3141  |    0.192     |\n",
      "|       Ensemble 2 Models       |   0.1928   |   0.2990  |    0.188     |\n",
      "| Best Model with Stanford Data |   0.2296   |   0.1881  |    0.157     |\n",
      "+-------------------------------+------------+-----------+--------------+\n"
     ]
    }
   ],
   "source": [
    "from prettytable import PrettyTable\n",
    "  \n",
    "# Specify the Column Names while initializing the Table\n",
    "myTable = PrettyTable([\"Model Name\", \"Train Loss\", \"Test Loss\", \"Kaggle Score\"])\n",
    "  \n",
    "# Add rows\n",
    "myTable.add_row([\"inception_resnet_v2\", \"0.3833\", \"0.5626\", \"0.308\"])\n",
    "myTable.add_row([\"Nasnet\", \"0.2484\", \"0.5413\", \"0.321\"])\n",
    "myTable.add_row([\"InceptionV3\", \"0.3952\", \"0.6826\", \"0.435\"])\n",
    "myTable.add_row([\"Xception\", \"0.3643\", \"0.6072\", \"0.397\"])\n",
    "myTable.add_row([\"Ensemble 4 Models\", \"0.1355\", \"0.3141\", \"0.192\"])\n",
    "myTable.add_row([\"Ensemble 2 Models\", \"0.1928\", \"0.2990\", \"0.188\"])\n",
    "myTable.add_row([\"Best Model with Stanford Data\", \"0.2296\", \"0.1881\", \"0.157\"])\n",
    "\n",
    "print(myTable)"
   ]
  }
 ],
 "metadata": {
  "accelerator": "GPU",
  "colab": {
   "collapsed_sections": [],
   "name": "self_case_study.ipynb",
   "provenance": []
  },
  "kernelspec": {
   "display_name": "Python 3",
   "language": "python",
   "name": "python3"
  },
  "language_info": {
   "codemirror_mode": {
    "name": "ipython",
    "version": 3
   },
   "file_extension": ".py",
   "mimetype": "text/x-python",
   "name": "python",
   "nbconvert_exporter": "python",
   "pygments_lexer": "ipython3",
   "version": "3.7.9"
  }
 },
 "nbformat": 4,
 "nbformat_minor": 1
}
