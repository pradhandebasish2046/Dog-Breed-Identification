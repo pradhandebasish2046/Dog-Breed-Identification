{
 "cells": [
  {
   "cell_type": "code",
   "execution_count": 13,
   "metadata": {
    "colab": {
     "base_uri": "https://localhost:8080/"
    },
    "id": "Yha2Y0RUEKUN",
    "outputId": "995efa53-0355-47d3-ebdd-5934117104a7"
   },
   "outputs": [
    {
     "name": "stdout",
     "output_type": "stream",
     "text": [
      "The tensorboard extension is already loaded. To reload it, use:\n",
      "  %reload_ext tensorboard\n"
     ]
    }
   ],
   "source": [
    "%matplotlib inline\n",
    "%load_ext tensorboard\n",
    "import warnings\n",
    "warnings.filterwarnings(\"ignore\")\n",
    "\n",
    "import numpy as np\n",
    "import pandas as pd\n",
    "import matplotlib.pyplot as plt\n",
    "import os\n",
    "from tqdm import tqdm\n",
    "\n",
    "import tensorflow as tf\n",
    "from tensorflow.keras.layers import Conv2D,Dense,Input,BatchNormalization,Flatten,MaxPooling2D,Activation,Dropout,concatenate,Softmax\n",
    "from tensorflow.keras.models import Model,Sequential \n",
    "from tensorflow.keras.callbacks import TensorBoard,ModelCheckpoint,EarlyStopping,ReduceLROnPlateau\n",
    "from keras.preprocessing.image import ImageDataGenerator\n",
    "from keras.callbacks import CSVLogger\n",
    "from tensorflow.keras.layers import GlobalAveragePooling2D, Concatenate"
   ]
  },
  {
   "cell_type": "code",
   "execution_count": 14,
   "metadata": {
    "colab": {
     "base_uri": "https://localhost:8080/"
    },
    "id": "kc4XCOLKEUG0",
    "outputId": "e405a528-aa91-4da1-fc53-caa495d28129"
   },
   "outputs": [
    {
     "name": "stdout",
     "output_type": "stream",
     "text": [
      "Drive already mounted at /content/drive; to attempt to forcibly remount, call drive.mount(\"/content/drive\", force_remount=True).\n"
     ]
    }
   ],
   "source": [
    "from google.colab import drive\n",
    "drive.mount('/content/drive')"
   ]
  },
  {
   "cell_type": "code",
   "execution_count": 23,
   "metadata": {
    "id": "BEZtFvTjNS9K"
   },
   "outputs": [],
   "source": [
    "#!tar -xvf /content/drive/MyDrive/Assignment/images.tar"
   ]
  },
  {
   "cell_type": "code",
   "execution_count": null,
   "metadata": {
    "id": "x-YeCzHMEVwn"
   },
   "outputs": [],
   "source": [
    "#!unzip /content/drive/MyDrive/Assignment/dog-breed-identification.zip"
   ]
  },
  {
   "cell_type": "code",
   "execution_count": null,
   "metadata": {
    "id": "xjZAu82aEX4t"
   },
   "outputs": [],
   "source": [
    "\"\"\"\n",
    "function ConnectButton(){\n",
    "    console.log(\"Connect pushed\"); \n",
    "    document.querySelector(\"#top-toolbar > colab-connect-button\").shadowRoot.querySelector(\"#connect\").click() \n",
    "}\n",
    "\n",
    "var colab = setInterval(ConnectButton,60000);\n",
    "\"\"\""
   ]
  },
  {
   "cell_type": "code",
   "execution_count": null,
   "metadata": {
    "colab": {
     "base_uri": "https://localhost:8080/"
    },
    "id": "YJy4vW2flrff",
    "outputId": "a270358e-dfa3-4bf8-9999-74c721b7c21a"
   },
   "outputs": [
    {
     "name": "stderr",
     "output_type": "stream",
     "text": [
      "100%|██████████| 120/120 [00:00<00:00, 46599.06it/s]\n"
     ]
    }
   ],
   "source": [
    "rootDir = 'Images/'\n",
    "for i in tqdm(os.listdir(rootDir)):\n",
    "  old_name = rootDir+i\n",
    "  lower_i = i.lower()\n",
    "  new_name = rootDir+lower_i\n",
    "  os.rename(old_name, new_name)"
   ]
  },
  {
   "cell_type": "code",
   "execution_count": null,
   "metadata": {
    "id": "L1u0euFeipb3"
   },
   "outputs": [],
   "source": [
    "train_data_dir = \"Images/\"\n",
    "train_datagen = ImageDataGenerator(\n",
    "    rescale= 1./255,\n",
    "    shear_range= 0.2,\n",
    "    zoom_range= 0.2,\n",
    "    horizontal_flip= True,\n",
    "    rotation_range= 20,\n",
    "    width_shift_range= 0.2,\n",
    "    height_shift_range= 0.2,   \n",
    "    validation_split=0.2)\n",
    "\n",
    "valid_datagen = ImageDataGenerator(\n",
    "    rescale= 1./255, \n",
    "    validation_split=0.2,\n",
    ")"
   ]
  },
  {
   "cell_type": "code",
   "execution_count": null,
   "metadata": {
    "colab": {
     "base_uri": "https://localhost:8080/"
    },
    "id": "7Ey9n3KQiaZh",
    "outputId": "cc1f0e12-b2d8-4494-edb1-7b8a7e31cde1"
   },
   "outputs": [
    {
     "name": "stdout",
     "output_type": "stream",
     "text": [
      "Found 16508 images belonging to 120 classes.\n"
     ]
    }
   ],
   "source": [
    "train_generator = train_datagen.flow_from_directory(  \n",
    "    train_data_dir,  \n",
    "    batch_size= 64,  \n",
    "    subset='training',\n",
    "    shuffle= True, \n",
    "    class_mode= 'categorical',\n",
    "    target_size= (331, 331), \n",
    "    color_mode= 'rgb',\n",
    "    seed= 42) "
   ]
  },
  {
   "cell_type": "code",
   "execution_count": null,
   "metadata": {
    "colab": {
     "base_uri": "https://localhost:8080/"
    },
    "id": "yybUZIG3j4tl",
    "outputId": "32d55469-f4ed-4a42-9c38-f698bf5bd25d"
   },
   "outputs": [
    {
     "name": "stdout",
     "output_type": "stream",
     "text": [
      "Found 4072 images belonging to 120 classes.\n"
     ]
    }
   ],
   "source": [
    "valid_generator = valid_datagen.flow_from_directory(\n",
    "    train_data_dir,\n",
    "    batch_size= 64,  \n",
    "    subset='validation',\n",
    "    shuffle= True, \n",
    "    class_mode= 'categorical',\n",
    "    target_size= (331, 331),\n",
    "    color_mode= 'rgb',\n",
    "    seed= 42\n",
    ")"
   ]
  },
  {
   "cell_type": "code",
   "execution_count": null,
   "metadata": {
    "colab": {
     "base_uri": "https://localhost:8080/",
     "height": 614
    },
    "id": "1tA-9it6kKUR",
    "outputId": "9cce15c6-fde7-4f89-afc0-d997b43720b9"
   },
   "outputs": [
    {
     "name": "stdout",
     "output_type": "stream",
     "text": [
      "Model: \"model\"\n",
      "__________________________________________________________________________________________________\n",
      " Layer (type)                   Output Shape         Param #     Connected to                     \n",
      "==================================================================================================\n",
      " input_3 (InputLayer)           [(None, 331, 331, 3  0           []                               \n",
      "                                )]                                                                \n",
      "                                                                                                  \n",
      " inception_resnet_v2 (Functiona  (None, 9, 9, 1536)  54336736    ['input_3[0][0]']                \n",
      " l)                                                                                               \n",
      "                                                                                                  \n",
      " NASNet (Functional)            (None, 11, 11, 4032  84916818    ['input_3[0][0]']                \n",
      "                                )                                                                 \n",
      "                                                                                                  \n",
      " global_average_pooling2d (Glob  (None, 1536)        0           ['inception_resnet_v2[0][0]']    \n",
      " alAveragePooling2D)                                                                              \n",
      "                                                                                                  \n",
      " global_average_pooling2d_1 (Gl  (None, 4032)        0           ['NASNet[0][0]']                 \n",
      " obalAveragePooling2D)                                                                            \n",
      "                                                                                                  \n",
      " concatenate_4 (Concatenate)    (None, 5568)         0           ['global_average_pooling2d[0][0]'\n",
      "                                                                 , 'global_average_pooling2d_1[0][\n",
      "                                                                 0]']                             \n",
      "                                                                                                  \n",
      " dropout (Dropout)              (None, 5568)         0           ['concatenate_4[0][0]']          \n",
      "                                                                                                  \n",
      " dense (Dense)                  (None, 120)          668280      ['dropout[0][0]']                \n",
      "                                                                                                  \n",
      "==================================================================================================\n",
      "Total params: 139,921,834\n",
      "Trainable params: 668,280\n",
      "Non-trainable params: 139,253,554\n",
      "__________________________________________________________________________________________________\n"
     ]
    },
    {
     "data": {
      "text/plain": [
       "None"
      ]
     },
     "metadata": {},
     "output_type": "display_data"
    }
   ],
   "source": [
    "IMG_HEIGHT = 331\n",
    "IMG_WIDTH = 331\n",
    "\n",
    "model_inception_resnet_v2 = tf.keras.applications.inception_resnet_v2.InceptionResNetV2(weights='imagenet', include_top=False, input_shape=(IMG_HEIGHT, IMG_WIDTH,3))\n",
    "\n",
    "model_nasnet = tf.keras.applications.nasnet.NASNetLarge(weights='imagenet', include_top=False, input_shape=(IMG_HEIGHT, IMG_WIDTH,3))\n",
    "\n",
    "model_inception_resnet_v2.trainable = False\n",
    "model_nasnet.trainable = False\n",
    "\n",
    "inputs = Input(shape=(IMG_HEIGHT, IMG_WIDTH, 3))\n",
    "\n",
    "x1 = model_inception_resnet_v2(inputs, training=False)\n",
    "x1 = GlobalAveragePooling2D()(x1)\n",
    "\n",
    "x2 = model_nasnet(inputs, training=False)\n",
    "x2 = GlobalAveragePooling2D()(x2)\n",
    "\n",
    "x = Concatenate()([x1, x2])\n",
    "x = Dropout(.7)(x)\n",
    "outputs = Dense(120, activation='softmax')(x)\n",
    "model = Model(inputs, outputs)\n",
    "\n",
    "display(model.summary())"
   ]
  },
  {
   "cell_type": "code",
   "execution_count": null,
   "metadata": {
    "id": "WmpBcsDh3oGZ"
   },
   "outputs": [],
   "source": [
    "indices = train_generator.class_indices"
   ]
  },
  {
   "cell_type": "code",
   "execution_count": null,
   "metadata": {
    "id": "a5qxF7yMjl3c"
   },
   "outputs": [],
   "source": [
    "labels = dict()\n",
    "for k,v in indices.items():\n",
    "  labels[k.split('-')[1]] = v"
   ]
  },
  {
   "cell_type": "code",
   "execution_count": null,
   "metadata": {
    "colab": {
     "base_uri": "https://localhost:8080/"
    },
    "id": "DG66FAgzkE0T",
    "outputId": "413fc25a-1a8d-4dc4-f522-b18ff6dda79f"
   },
   "outputs": [
    {
     "data": {
      "text/plain": [
       "['/content/drive/MyDrive/self_case_study/debun/labels.pkl']"
      ]
     },
     "execution_count": 17,
     "metadata": {},
     "output_type": "execute_result"
    }
   ],
   "source": [
    "import joblib\n",
    "root_dir = '/content/drive/MyDrive/self_case_study/debun/'\n",
    "joblib.dump(labels, root_dir+'labels.pkl')"
   ]
  },
  {
   "cell_type": "code",
   "execution_count": null,
   "metadata": {
    "id": "-ZolBTvxi-ho"
   },
   "outputs": [],
   "source": [
    "optimizer = tf.keras.optimizers.Adam(learning_rate=0.0001)\n",
    "model.compile(loss=\"categorical_crossentropy\", metrics=['accuracy'], optimizer=optimizer)"
   ]
  },
  {
   "cell_type": "code",
   "execution_count": null,
   "metadata": {
    "id": "gMyUfKTN18an"
   },
   "outputs": [],
   "source": [
    "earlystopping = tf.keras.callbacks.EarlyStopping(monitor='val_accuracy', patience=7,mode='max')\n",
    "reduce_lr = tf.keras.callbacks.ReduceLROnPlateau(monitor='val_accuracy', min_lr=0.0000001,patience=2)\n",
    "\n",
    "root_dir = '/content/drive/MyDrive/self_case_study/debun'\n",
    "from keras.callbacks import CSVLogger\n",
    "\n",
    "csv_logger = CSVLogger(root_dir+\"model_ensemble_history_log_stanford_data.csv\", append=True,separator=\",\")\n",
    "\n",
    "checkpoint = ModelCheckpoint(root_dir+'model_ensemble_weights_stanford_data.h5', save_weights_only=True, save_best_only=True, \\\n",
    "                                       mode='max', monitor='val_accuracy')"
   ]
  },
  {
   "cell_type": "code",
   "execution_count": null,
   "metadata": {
    "colab": {
     "base_uri": "https://localhost:8080/"
    },
    "id": "u1ZmD7K8kkMS",
    "outputId": "f12f0aa5-e677-4c58-be12-1397cbe331e0"
   },
   "outputs": [
    {
     "name": "stdout",
     "output_type": "stream",
     "text": [
      "Epoch 1/50\n",
      "257/257 [==============================] - 889s 3s/step - loss: 2.8930 - accuracy: 0.5919 - val_loss: 1.1685 - val_accuracy: 0.9340 - lr: 1.0000e-04\n",
      "Epoch 2/50\n",
      "257/257 [==============================] - 844s 3s/step - loss: 0.8370 - accuracy: 0.8942 - val_loss: 0.4199 - val_accuracy: 0.9377 - lr: 1.0000e-04\n",
      "Epoch 3/50\n",
      "257/257 [==============================] - 846s 3s/step - loss: 0.4610 - accuracy: 0.9104 - val_loss: 0.2844 - val_accuracy: 0.9390 - lr: 1.0000e-04\n",
      "Epoch 4/50\n",
      "257/257 [==============================] - 844s 3s/step - loss: 0.3499 - accuracy: 0.9187 - val_loss: 0.2362 - val_accuracy: 0.9415 - lr: 1.0000e-04\n",
      "Epoch 5/50\n",
      "257/257 [==============================] - 843s 3s/step - loss: 0.3110 - accuracy: 0.9172 - val_loss: 0.2144 - val_accuracy: 0.9420 - lr: 1.0000e-04\n",
      "Epoch 6/50\n",
      "257/257 [==============================] - 844s 3s/step - loss: 0.2794 - accuracy: 0.9250 - val_loss: 0.2035 - val_accuracy: 0.9422 - lr: 1.0000e-04\n",
      "Epoch 7/50\n",
      "257/257 [==============================] - 845s 3s/step - loss: 0.2635 - accuracy: 0.9228 - val_loss: 0.1979 - val_accuracy: 0.9425 - lr: 1.0000e-04\n",
      "Epoch 8/50\n",
      "257/257 [==============================] - 845s 3s/step - loss: 0.2478 - accuracy: 0.9254 - val_loss: 0.1932 - val_accuracy: 0.9432 - lr: 1.0000e-04\n",
      "Epoch 9/50\n",
      "257/257 [==============================] - 835s 3s/step - loss: 0.2435 - accuracy: 0.9237 - val_loss: 0.1913 - val_accuracy: 0.9425 - lr: 1.0000e-04\n",
      "Epoch 10/50\n",
      "257/257 [==============================] - 834s 3s/step - loss: 0.2424 - accuracy: 0.9245 - val_loss: 0.1889 - val_accuracy: 0.9432 - lr: 1.0000e-04\n",
      "Epoch 11/50\n",
      "257/257 [==============================] - 834s 3s/step - loss: 0.2288 - accuracy: 0.9284 - val_loss: 0.1876 - val_accuracy: 0.9430 - lr: 1.0000e-05\n",
      "Epoch 12/50\n",
      "257/257 [==============================] - 873s 3s/step - loss: 0.2307 - accuracy: 0.9288 - val_loss: 0.1885 - val_accuracy: 0.9430 - lr: 1.0000e-05\n",
      "Epoch 13/50\n",
      "257/257 [==============================] - 842s 3s/step - loss: 0.2237 - accuracy: 0.9321 - val_loss: 0.1868 - val_accuracy: 0.9435 - lr: 1.0000e-06\n",
      "Epoch 14/50\n",
      "257/257 [==============================] - 835s 3s/step - loss: 0.2231 - accuracy: 0.9313 - val_loss: 0.1878 - val_accuracy: 0.9430 - lr: 1.0000e-06\n",
      "Epoch 15/50\n",
      "257/257 [==============================] - 835s 3s/step - loss: 0.2267 - accuracy: 0.9295 - val_loss: 0.1875 - val_accuracy: 0.9435 - lr: 1.0000e-06\n",
      "Epoch 16/50\n",
      "257/257 [==============================] - 836s 3s/step - loss: 0.2297 - accuracy: 0.9276 - val_loss: 0.1861 - val_accuracy: 0.9432 - lr: 1.0000e-07\n",
      "Epoch 17/50\n",
      "257/257 [==============================] - 836s 3s/step - loss: 0.2251 - accuracy: 0.9310 - val_loss: 0.1879 - val_accuracy: 0.9432 - lr: 1.0000e-07\n",
      "Epoch 18/50\n",
      "257/257 [==============================] - 835s 3s/step - loss: 0.2204 - accuracy: 0.9324 - val_loss: 0.1877 - val_accuracy: 0.9432 - lr: 1.0000e-07\n",
      "Epoch 19/50\n",
      "257/257 [==============================] - 835s 3s/step - loss: 0.2208 - accuracy: 0.9300 - val_loss: 0.1877 - val_accuracy: 0.9430 - lr: 1.0000e-07\n",
      "Epoch 20/50\n",
      "257/257 [==============================] - 834s 3s/step - loss: 0.2296 - accuracy: 0.9297 - val_loss: 0.1881 - val_accuracy: 0.9432 - lr: 1.0000e-07\n"
     ]
    }
   ],
   "source": [
    "STEP_SIZE_TRAIN=train_generator.n//train_generator.batch_size\n",
    "STEP_SIZE_VALID=valid_generator.n//valid_generator.batch_size\n",
    "\n",
    "history = model.fit(train_generator,\n",
    "                      steps_per_epoch=STEP_SIZE_TRAIN,\n",
    "                      validation_data=valid_generator,\n",
    "                      validation_steps=STEP_SIZE_VALID,\n",
    "                      epochs=50, callbacks = [earlystopping, reduce_lr, csv_logger, checkpoint])"
   ]
  },
  {
   "cell_type": "code",
   "execution_count": null,
   "metadata": {
    "id": "FkvsxG3zxlqz"
   },
   "outputs": [],
   "source": [
    "history = pd.read_csv(root_dir+\"model_ensemble_history_log_stanford_data.csv\")"
   ]
  },
  {
   "cell_type": "code",
   "execution_count": null,
   "metadata": {
    "id": "QbHyrAXKxt4Z"
   },
   "outputs": [],
   "source": [
    "def plot_performance_metric(history):\n",
    "  # Plot training & validation iou_score values\n",
    "  plt.figure(figsize=(30, 5))\n",
    "  plt.subplot(121)\n",
    "  plt.plot(history['accuracy'])\n",
    "  plt.plot(history['val_accuracy'])\n",
    "  plt.title('Model Accuracy')\n",
    "  plt.ylabel('Accuracy')\n",
    "  plt.xlabel('Epoch')\n",
    "  plt.legend(['Train', 'Test'], loc='upper left')\n",
    "\n",
    "  # Plot training & validation loss values\n",
    "  plt.subplot(122)\n",
    "  plt.plot(history['loss'])\n",
    "  plt.plot(history['val_loss'])\n",
    "  plt.title('Model loss')\n",
    "  plt.ylabel('Loss')\n",
    "  plt.xlabel('Epoch')\n",
    "  plt.legend(['Train', 'Test'], loc='upper left')\n",
    "  plt.show()"
   ]
  },
  {
   "cell_type": "code",
   "execution_count": null,
   "metadata": {
    "colab": {
     "base_uri": "https://localhost:8080/",
     "height": 138
    },
    "id": "BM7lofdxxl0j",
    "outputId": "a8eb96d5-a749-48d1-be4d-59ae678de1f3"
   },
   "outputs": [
    {
     "data": {
      "image/png": "[encoded data removed]",
      "text/plain": [
       "<Figure size 2160x360 with 2 Axes>"
      ]
     },
     "metadata": {
      "needs_background": "light"
     },
     "output_type": "display_data"
    }
   ],
   "source": [
    "plot_performance_metric(history)"
   ]
  },
  {
   "cell_type": "code",
   "execution_count": null,
   "metadata": {
    "id": "7_6ahJRs4Rn5"
   },
   "outputs": [],
   "source": [
    "breed = []\n",
    "for i in indices.keys():\n",
    "  breed.append(i.split('-')[1])"
   ]
  },
  {
   "cell_type": "code",
   "execution_count": null,
   "metadata": {
    "id": "iZFLoZ-_yKfg"
   },
   "outputs": [],
   "source": [
    "#!unzip /content/drive/MyDrive/Assignment/dog-breed-identification.zip"
   ]
  },
  {
   "cell_type": "code",
   "execution_count": null,
   "metadata": {
    "id": "ZuSku6OVx4hj"
   },
   "outputs": [],
   "source": [
    "root_dir = '/content/drive/MyDrive/self_case_study/debun'\n",
    "filepath=root_dir+'model_ensemble_weights_stanford_data.h5'\n",
    "model.load_weights(filepath)"
   ]
  },
  {
   "cell_type": "code",
   "execution_count": null,
   "metadata": {
    "id": "7OcW9BFnnHcu"
   },
   "outputs": [],
   "source": [
    "model.save(root_dir+'/model_ensemble_weights_stanford_data.h5')"
   ]
  },
  {
   "cell_type": "code",
   "execution_count": 15,
   "metadata": {
    "id": "b1kXmyBR2zgx"
   },
   "outputs": [],
   "source": [
    "root_dir = '/content/drive/MyDrive/self_case_study/debun/'\n",
    "model = tf.keras.models.load_model(root_dir+'model_ensemble_weights_stanford_data.h5')"
   ]
  },
  {
   "cell_type": "code",
   "execution_count": null,
   "metadata": {
    "colab": {
     "base_uri": "https://localhost:8080/"
    },
    "id": "lB5Ml0UEx4mk",
    "outputId": "306e44e8-e79e-4b54-8c0e-2a021a753d44"
   },
   "outputs": [
    {
     "name": "stderr",
     "output_type": "stream",
     "text": [
      "100%|██████████| 10357/10357 [00:54<00:00, 188.73it/s]\n"
     ]
    }
   ],
   "source": [
    "import shutil\n",
    "os.makedirs(\"root/data/test/\")\n",
    "for i in tqdm(range(len(os.listdir('test')))):\n",
    "    dir = os.listdir('test')[i]\n",
    "    source = \"test/\"+dir\n",
    "\n",
    "    # Destination path\n",
    "    destination = \"root/data/test/\"\n",
    "    shutil.copy(source, destination)"
   ]
  },
  {
   "cell_type": "code",
   "execution_count": null,
   "metadata": {
    "colab": {
     "base_uri": "https://localhost:8080/"
    },
    "id": "Ad18BmwNx4rZ",
    "outputId": "2a125753-ce75-48ca-c8ff-101afd3ae814"
   },
   "outputs": [
    {
     "name": "stdout",
     "output_type": "stream",
     "text": [
      "Found 10357 images belonging to 1 classes.\n"
     ]
    }
   ],
   "source": [
    "test_datagen = ImageDataGenerator(rescale=1./255)\n",
    "test_data = test_datagen.flow_from_directory(\n",
    "        'root/data/',\n",
    "        target_size=(331, 331),\n",
    "        batch_size=64,\n",
    "        class_mode=None,\n",
    "        shuffle=False)"
   ]
  },
  {
   "cell_type": "code",
   "execution_count": 24,
   "metadata": {
    "id": "7VRBC6QAPDHl"
   },
   "outputs": [],
   "source": [
    "import os\n",
    "a = os.listdir(\"Images\")[0]\n",
    "os.makedirs('test_root/test')"
   ]
  },
  {
   "cell_type": "code",
   "execution_count": null,
   "metadata": {
    "id": "tKzpy2xJx933"
   },
   "outputs": [],
   "source": [
    "prediction = model.predict(test_data)"
   ]
  },
  {
   "cell_type": "code",
   "execution_count": null,
   "metadata": {
    "id": "m63fs5p4x99B"
   },
   "outputs": [],
   "source": [
    "id = []\n",
    "for i in sorted(os.listdir('test')):\n",
    "  id.append(i.split('.')[0])"
   ]
  },
  {
   "cell_type": "code",
   "execution_count": null,
   "metadata": {
    "colab": {
     "base_uri": "https://localhost:8080/",
     "height": 206
    },
    "id": "Era2KZESpqhF",
    "outputId": "ac349a34-9a88-4475-9030-c39f8ab4281b"
   },
   "outputs": [
    {
     "data": {
      "text/html": [
       "\n",
       "  <div id=\"df-d48a07c6-c72d-4e17-9f08-dc6d75db41ac\">\n",
       "    <div class=\"colab-df-container\">\n",
       "      <div>\n",
       "<style scoped>\n",
       "    .dataframe tbody tr th:only-of-type {\n",
       "        vertical-align: middle;\n",
       "    }\n",
       "\n",
       "    .dataframe tbody tr th {\n",
       "        vertical-align: top;\n",
       "    }\n",
       "\n",
       "    .dataframe thead th {\n",
       "        text-align: right;\n",
       "    }\n",
       "</style>\n",
       "<table border=\"1\" class=\"dataframe\">\n",
       "  <thead>\n",
       "    <tr style=\"text-align: right;\">\n",
       "      <th></th>\n",
       "      <th>id</th>\n",
       "      <th>breed</th>\n",
       "      <th>path</th>\n",
       "    </tr>\n",
       "  </thead>\n",
       "  <tbody>\n",
       "    <tr>\n",
       "      <th>0</th>\n",
       "      <td>000bec180eb18c7604dcecc8fe0dba07</td>\n",
       "      <td>boston_bull</td>\n",
       "      <td>000bec180eb18c7604dcecc8fe0dba07.jpg</td>\n",
       "    </tr>\n",
       "    <tr>\n",
       "      <th>1</th>\n",
       "      <td>001513dfcb2ffafc82cccf4d8bbaba97</td>\n",
       "      <td>dingo</td>\n",
       "      <td>001513dfcb2ffafc82cccf4d8bbaba97.jpg</td>\n",
       "    </tr>\n",
       "    <tr>\n",
       "      <th>2</th>\n",
       "      <td>001cdf01b096e06d78e9e5112d419397</td>\n",
       "      <td>pekinese</td>\n",
       "      <td>001cdf01b096e06d78e9e5112d419397.jpg</td>\n",
       "    </tr>\n",
       "    <tr>\n",
       "      <th>3</th>\n",
       "      <td>00214f311d5d2247d5dfe4fe24b2303d</td>\n",
       "      <td>bluetick</td>\n",
       "      <td>00214f311d5d2247d5dfe4fe24b2303d.jpg</td>\n",
       "    </tr>\n",
       "    <tr>\n",
       "      <th>4</th>\n",
       "      <td>0021f9ceb3235effd7fcde7f7538ed62</td>\n",
       "      <td>golden_retriever</td>\n",
       "      <td>0021f9ceb3235effd7fcde7f7538ed62.jpg</td>\n",
       "    </tr>\n",
       "  </tbody>\n",
       "</table>\n",
       "</div>\n",
       "      <button class=\"colab-df-convert\" onclick=\"convertToInteractive('df-d48a07c6-c72d-4e17-9f08-dc6d75db41ac')\"\n",
       "              title=\"Convert this dataframe to an interactive table.\"\n",
       "              style=\"display:none;\">\n",
       "        \n",
       "  <svg xmlns=\"http://www.w3.org/2000/svg\" height=\"24px\"viewBox=\"0 0 24 24\"\n",
       "       width=\"24px\">\n",
       "    <path d=\"M0 0h24v24H0V0z\" fill=\"none\"/>\n",
       "    <path d=\"M18.56 5.44l.94 2.06.94-2.06 2.06-.94-2.06-.94-.94-2.06-.94 2.06-2.06.94zm-11 1L8.5 8.5l.94-2.06 2.06-.94-2.06-.94L8.5 2.5l-.94 2.06-2.06.94zm10 10l.94 2.06.94-2.06 2.06-.94-2.06-.94-.94-2.06-.94 2.06-2.06.94z\"/><path d=\"M17.41 7.96l-1.37-1.37c-.4-.4-.92-.59-1.43-.59-.52 0-1.04.2-1.43.59L10.3 9.45l-7.72 7.72c-.78.78-.78 2.05 0 2.83L4 21.41c.39.39.9.59 1.41.59.51 0 1.02-.2 1.41-.59l7.78-7.78 2.81-2.81c.8-.78.8-2.07 0-2.86zM5.41 20L4 18.59l7.72-7.72 1.47 1.35L5.41 20z\"/>\n",
       "  </svg>\n",
       "      </button>\n",
       "      \n",
       "  <style>\n",
       "    .colab-df-container {\n",
       "      display:flex;\n",
       "      flex-wrap:wrap;\n",
       "      gap: 12px;\n",
       "    }\n",
       "\n",
       "    .colab-df-convert {\n",
       "      background-color: #E8F0FE;\n",
       "      border: none;\n",
       "      border-radius: 50%;\n",
       "      cursor: pointer;\n",
       "      display: none;\n",
       "      fill: #1967D2;\n",
       "      height: 32px;\n",
       "      padding: 0 0 0 0;\n",
       "      width: 32px;\n",
       "    }\n",
       "\n",
       "    .colab-df-convert:hover {\n",
       "      background-color: #E2EBFA;\n",
       "      box-shadow: 0px 1px 2px rgba(60, 64, 67, 0.3), 0px 1px 3px 1px rgba(60, 64, 67, 0.15);\n",
       "      fill: #174EA6;\n",
       "    }\n",
       "\n",
       "    [theme=dark] .colab-df-convert {\n",
       "      background-color: #3B4455;\n",
       "      fill: #D2E3FC;\n",
       "    }\n",
       "\n",
       "    [theme=dark] .colab-df-convert:hover {\n",
       "      background-color: #434B5C;\n",
       "      box-shadow: 0px 1px 3px 1px rgba(0, 0, 0, 0.15);\n",
       "      filter: drop-shadow(0px 1px 2px rgba(0, 0, 0, 0.3));\n",
       "      fill: #FFFFFF;\n",
       "    }\n",
       "  </style>\n",
       "\n",
       "      <script>\n",
       "        const buttonEl =\n",
       "          document.querySelector('#df-d48a07c6-c72d-4e17-9f08-dc6d75db41ac button.colab-df-convert');\n",
       "        buttonEl.style.display =\n",
       "          google.colab.kernel.accessAllowed ? 'block' : 'none';\n",
       "\n",
       "        async function convertToInteractive(key) {\n",
       "          const element = document.querySelector('#df-d48a07c6-c72d-4e17-9f08-dc6d75db41ac');\n",
       "          const dataTable =\n",
       "            await google.colab.kernel.invokeFunction('convertToInteractive',\n",
       "                                                     [key], {});\n",
       "          if (!dataTable) return;\n",
       "\n",
       "          const docLinkHtml = 'Like what you see? Visit the ' +\n",
       "            '<a target=\"_blank\" href=https://colab.research.google.com/notebooks/data_table.ipynb>data table notebook</a>'\n",
       "            + ' to learn more about interactive tables.';\n",
       "          element.innerHTML = '';\n",
       "          dataTable['output_type'] = 'display_data';\n",
       "          await google.colab.output.renderOutput(dataTable, element);\n",
       "          const docLink = document.createElement('div');\n",
       "          docLink.innerHTML = docLinkHtml;\n",
       "          element.appendChild(docLink);\n",
       "        }\n",
       "      </script>\n",
       "    </div>\n",
       "  </div>\n",
       "  "
      ],
      "text/plain": [
       "                                 id             breed  \\\n",
       "0  000bec180eb18c7604dcecc8fe0dba07       boston_bull   \n",
       "1  001513dfcb2ffafc82cccf4d8bbaba97             dingo   \n",
       "2  001cdf01b096e06d78e9e5112d419397          pekinese   \n",
       "3  00214f311d5d2247d5dfe4fe24b2303d          bluetick   \n",
       "4  0021f9ceb3235effd7fcde7f7538ed62  golden_retriever   \n",
       "\n",
       "                                   path  \n",
       "0  000bec180eb18c7604dcecc8fe0dba07.jpg  \n",
       "1  001513dfcb2ffafc82cccf4d8bbaba97.jpg  \n",
       "2  001cdf01b096e06d78e9e5112d419397.jpg  \n",
       "3  00214f311d5d2247d5dfe4fe24b2303d.jpg  \n",
       "4  0021f9ceb3235effd7fcde7f7538ed62.jpg  "
      ]
     },
     "execution_count": 44,
     "metadata": {},
     "output_type": "execute_result"
    }
   ],
   "source": [
    "data = pd.read_csv(\"labels.csv\")\n",
    "data['path'] = data['id'].values+'.jpg'\n",
    "data.head()"
   ]
  },
  {
   "cell_type": "code",
   "execution_count": null,
   "metadata": {
    "colab": {
     "base_uri": "https://localhost:8080/"
    },
    "id": "Y70SmA8k6W_A",
    "outputId": "bafff962-753f-430f-a351-ec51b18b0818"
   },
   "outputs": [
    {
     "name": "stderr",
     "output_type": "stream",
     "text": [
      "100%|██████████| 10357/10357 [00:19<00:00, 543.00it/s]\n"
     ]
    }
   ],
   "source": [
    "df = pd.DataFrame(columns=breed)\n",
    "for i in tqdm(range(10357)):\n",
    "  row = []\n",
    "  #row.append(id[i])\n",
    "  for x in prediction[i]:\n",
    "    row.append(x)\n",
    "  df.loc[len(df.index)] = row"
   ]
  },
  {
   "cell_type": "code",
   "execution_count": null,
   "metadata": {
    "id": "aO4sg4zQ91Jl"
   },
   "outputs": [],
   "source": [
    "submission = pd.DataFrame(columns=['id'])\n",
    "submission['id'] = id\n",
    "for i in sorted(np.unique(data['breed'])):\n",
    "  submission[i] = df[i]"
   ]
  },
  {
   "cell_type": "code",
   "execution_count": null,
   "metadata": {
    "colab": {
     "base_uri": "https://localhost:8080/"
    },
    "id": "iH3J67kix-CY",
    "outputId": "1939f1dc-235e-43af-f301-f3404813cebd"
   },
   "outputs": [
    {
     "name": "stderr",
     "output_type": "stream",
     "text": [
      "100%|██████████| 10357/10357 [01:49<00:00, 94.71it/s]\n"
     ]
    }
   ],
   "source": [
    "submission = pd.DataFrame(columns=['id']+sorted(np.unique(data['breed'])))\n",
    "\n",
    "for i in tqdm(range(10357)):\n",
    "  row = []\n",
    "  row.append(id[i])\n",
    "  \n",
    "  for x in prediction[i]:\n",
    "    row.append(x)\n",
    "  submission.loc[len(submission.index)] = row"
   ]
  },
  {
   "cell_type": "code",
   "execution_count": null,
   "metadata": {
    "id": "Vh0u4ukpyCs0"
   },
   "outputs": [],
   "source": [
    "submission.to_csv('model_ensemble_2.4_stanford_data.csv',index=False)"
   ]
  },
  {
   "cell_type": "code",
   "execution_count": 17,
   "metadata": {
    "id": "Iqwxot1l3SxY"
   },
   "outputs": [],
   "source": [
    "os.makedirs('root/test')"
   ]
  },
  {
   "cell_type": "code",
   "execution_count": 18,
   "metadata": {
    "colab": {
     "base_uri": "https://localhost:8080/",
     "height": 35
    },
    "id": "0mai1K4l3MCf",
    "outputId": "725003bd-f591-43f0-ed20-dba47fb25623"
   },
   "outputs": [
    {
     "data": {
      "application/vnd.google.colaboratory.intrinsic+json": {
       "type": "string"
      },
      "text/plain": [
       "'root/test/test_img.jpg'"
      ]
     },
     "execution_count": 18,
     "metadata": {},
     "output_type": "execute_result"
    }
   ],
   "source": [
    "import shutil\n",
    "source = '/content/4366ae84914916e5e60738e0d1d3846e.jpg'\n",
    "shutil.move(source,'root/test/test_img.jpg')"
   ]
  },
  {
   "cell_type": "code",
   "execution_count": 21,
   "metadata": {
    "colab": {
     "base_uri": "https://localhost:8080/",
     "height": 54
    },
    "id": "aoL6f6GZ6Xfr",
    "outputId": "c19a92c8-9212-415e-db12-2b80edce5f81"
   },
   "outputs": [
    {
     "name": "stdout",
     "output_type": "stream",
     "text": [
      "Found 1 images belonging to 1 classes.\n"
     ]
    },
    {
     "data": {
      "application/vnd.google.colaboratory.intrinsic+json": {
       "type": "string"
      },
      "text/plain": [
       "\"Given Dog's breed is airedale\""
      ]
     },
     "execution_count": 21,
     "metadata": {},
     "output_type": "execute_result"
    }
   ],
   "source": [
    "import joblib\n",
    "def function1(image_dir):\n",
    "          test_datagen = ImageDataGenerator(rescale=1./255)\n",
    "          test_data = test_datagen.flow_from_directory(\n",
    "                  image_dir,\n",
    "                  target_size=(331, 331),\n",
    "                  batch_size=64,\n",
    "                  class_mode=None,\n",
    "                  shuffle=False)\n",
    "          labels = joblib.load('/content/drive/MyDrive/self_case_study/debun/labels.pkl')\n",
    "          #model = joblib.load('C://Users//Debasish Pradhan//.spyder-py3//Deployment//pkl_files//debunfinal_model.pkl')\n",
    "          model = tf.keras.models.load_model('/content/drive/MyDrive/self_case_study/debun/model_ensemble_weights_stanford_data.h5')\n",
    "\n",
    "          prediction = model.predict(test_data)\n",
    "          predicted_class = np.argmax(prediction[0])\n",
    "          #print('hhhhhhhhhhh',predicted_class)\n",
    "          output = [key for key,value in labels.items() if value==predicted_class][0]\n",
    "          return f\"Given Dog's breed is {output}\"\n",
    "      \n",
    "output = function1('root')\n",
    "output"
   ]
  }
 ],
 "metadata": {
  "accelerator": "GPU",
  "colab": {
   "collapsed_sections": [],
   "name": "Best Model.ipynb",
   "provenance": []
  },
  "kernelspec": {
   "display_name": "Python 3",
   "language": "python",
   "name": "python3"
  },
  "language_info": {
   "codemirror_mode": {
    "name": "ipython",
    "version": 3
   },
   "file_extension": ".py",
   "mimetype": "text/x-python",
   "name": "python",
   "nbconvert_exporter": "python",
   "pygments_lexer": "ipython3",
   "version": "3.7.9"
  }
 },
 "nbformat": 4,
 "nbformat_minor": 1
}
