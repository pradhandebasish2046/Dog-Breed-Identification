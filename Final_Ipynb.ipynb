{
 "cells": [
  {
   "cell_type": "code",
   "execution_count": null,
   "metadata": {
    "id": "OOT9mxafiYcK"
   },
   "outputs": [],
   "source": [
    "import warnings\n",
    "warnings.filterwarnings(\"ignore\")\n",
    "\n",
    "import numpy as np\n",
    "import pandas as pd\n",
    "import matplotlib.pyplot as plt\n",
    "import os\n",
    "\n",
    "import tensorflow as tf\n",
    "from keras.preprocessing.image import ImageDataGenerator\n",
    "from tensorflow.keras.layers import GlobalAveragePooling2D, Concatenate\n",
    "import joblib\n",
    "from sklearn.metrics import f1_score"
   ]
  },
  {
   "cell_type": "code",
   "execution_count": null,
   "metadata": {
    "id": "cSybDvqWirey"
   },
   "outputs": [],
   "source": [
    "def function1(image_dir):\n",
    "  test_datagen = ImageDataGenerator(rescale=1./255)\n",
    "  test_data = test_datagen.flow_from_directory(\n",
    "          image_dir,\n",
    "          target_size=(331, 331),\n",
    "          batch_size=64,\n",
    "          class_mode=None,\n",
    "          shuffle=False)\n",
    "  model = tf.keras.models.load_model('/content/drive/MyDrive/self_case_study/debun/model_ensemble_weights_stanford_data.h5')\n",
    "  prediction = model.predict(test_data)\n",
    "  predicted_class = np.argmax(prediction[0])\n",
    "  labels = joblib.load('/content/drive/MyDrive/self_case_study/debun/labels.pkl')\n",
    "  output = [key for key,value in labels.items() if value==predicted_class][0]\n",
    "  return f\"Given Dog's breed is {output}\""
   ]
  },
  {
   "cell_type": "code",
   "execution_count": null,
   "metadata": {
    "colab": {
     "base_uri": "https://localhost:8080/",
     "height": 54
    },
    "id": "QCC8931ktayr",
    "outputId": "605538ff-13b0-4119-9635-c5cd8a3d45ab"
   },
   "outputs": [
    {
     "name": "stdout",
     "output_type": "stream",
     "text": [
      "Found 1 images belonging to 1 classes.\n"
     ]
    },
    {
     "data": {
      "application/vnd.google.colaboratory.intrinsic+json": {
       "type": "string"
      },
      "text/plain": [
       "\"Given Dog's breed is affenpinscher\""
      ]
     },
     "execution_count": 18,
     "metadata": {},
     "output_type": "execute_result"
    }
   ],
   "source": [
    "function1('root_test_1')"
   ]
  },
  {
   "cell_type": "code",
   "execution_count": null,
   "metadata": {
    "id": "oBwW0kJiuHap"
   },
   "outputs": [],
   "source": [
    "def function2(dog_breed_prediction_directory,true_class_label):\n",
    "  test_datagen = ImageDataGenerator(rescale=1./255)\n",
    "  test_data = test_datagen.flow_from_directory(\n",
    "          dog_breed_prediction_directory,\n",
    "          target_size=(331, 331),\n",
    "          batch_size=64,\n",
    "          class_mode=None,\n",
    "          shuffle=False)\n",
    "  model = tf.keras.models.load_model('/content/drive/MyDrive/self_case_study/debun/model_ensemble_weights_stanford_data.h5')\n",
    "  prediction = model.predict(test_data)\n",
    "  labels = joblib.load('/content/drive/MyDrive/self_case_study/debun/labels.pkl')\n",
    "  y_pred = []\n",
    "  for i in range(len(prediction)):\n",
    "    predicted_class = np.argmax(prediction[i])\n",
    "    output = [key for key,value in labels.items() if value==predicted_class][0]\n",
    "    y_pred.append(output)\n",
    "  output = round(f1_score(true_class_label,y_pred,average='micro', zero_division = 0),2)\n",
    "  return f\"Accuracy {output*100}%\""
   ]
  },
  {
   "cell_type": "code",
   "execution_count": null,
   "metadata": {
    "colab": {
     "base_uri": "https://localhost:8080/",
     "height": 54
    },
    "id": "f9TDItJM0JJI",
    "outputId": "5f38dc5d-5960-4fc5-b98c-3caf8c7b108b"
   },
   "outputs": [
    {
     "name": "stdout",
     "output_type": "stream",
     "text": [
      "Found 72 images belonging to 1 classes.\n"
     ]
    },
    {
     "data": {
      "application/vnd.google.colaboratory.intrinsic+json": {
       "type": "string"
      },
      "text/plain": [
       "'Accuracy 97.0%'"
      ]
     },
     "execution_count": 3,
     "metadata": {},
     "output_type": "execute_result"
    }
   ],
   "source": [
    "true_class_label = ['affenpinscher' for i in range(72)]\n",
    "function2('root_test',true_class_label)"
   ]
  }
 ],
 "metadata": {
  "colab": {
   "collapsed_sections": [],
   "name": "Final_Ipynb.ipynb",
   "provenance": []
  },
  "kernelspec": {
   "display_name": "Python 3",
   "language": "python",
   "name": "python3"
  },
  "language_info": {
   "codemirror_mode": {
    "name": "ipython",
    "version": 3
   },
   "file_extension": ".py",
   "mimetype": "text/x-python",
   "name": "python",
   "nbconvert_exporter": "python",
   "pygments_lexer": "ipython3",
   "version": "3.7.9"
  }
 },
 "nbformat": 4,
 "nbformat_minor": 1
}
